{
 "cells": [
  {
   "cell_type": "code",
   "execution_count": 1,
   "metadata": {
    "ExecuteTime": {
     "end_time": "2021-07-13T08:38:27.730501Z",
     "start_time": "2021-07-13T08:38:24.876710Z"
    }
   },
   "outputs": [],
   "source": [
    "from selenium import webdriver\n",
    "\n",
    "browser = webdriver.Chrome(\"./chromedriver.exe\")"
   ]
  },
  {
   "cell_type": "code",
   "execution_count": 2,
   "metadata": {
    "ExecuteTime": {
     "end_time": "2021-07-13T08:38:50.652700Z",
     "start_time": "2021-07-13T08:38:48.534701Z"
    }
   },
   "outputs": [],
   "source": [
    "browser.get(\"http://naver.com\")"
   ]
  },
  {
   "cell_type": "code",
   "execution_count": 3,
   "metadata": {
    "ExecuteTime": {
     "end_time": "2021-07-13T08:42:04.757189Z",
     "start_time": "2021-07-13T08:42:04.699429Z"
    }
   },
   "outputs": [],
   "source": [
    "elem = browser.find_element_by_class_name(\"link_login\")"
   ]
  },
  {
   "cell_type": "code",
   "execution_count": 4,
   "metadata": {
    "ExecuteTime": {
     "end_time": "2021-07-13T08:42:10.197659Z",
     "start_time": "2021-07-13T08:42:10.161911Z"
    }
   },
   "outputs": [
    {
     "data": {
      "text/plain": [
       "<selenium.webdriver.remote.webelement.WebElement (session=\"6d5f77ce838267b9921c1a6bb3031c79\", element=\"0076f16f-c803-45c9-b73e-7c93e6b86c2a\")>"
      ]
     },
     "execution_count": 4,
     "metadata": {},
     "output_type": "execute_result"
    }
   ],
   "source": [
    "elem"
   ]
  },
  {
   "cell_type": "code",
   "execution_count": 5,
   "metadata": {
    "ExecuteTime": {
     "end_time": "2021-07-13T08:42:21.030219Z",
     "start_time": "2021-07-13T08:42:18.816296Z"
    }
   },
   "outputs": [],
   "source": [
    "elem.click()"
   ]
  },
  {
   "cell_type": "code",
   "execution_count": 6,
   "metadata": {
    "ExecuteTime": {
     "end_time": "2021-07-13T08:42:33.479287Z",
     "start_time": "2021-07-13T08:42:29.936591Z"
    }
   },
   "outputs": [],
   "source": [
    "browser.back()"
   ]
  },
  {
   "cell_type": "code",
   "execution_count": 7,
   "metadata": {
    "ExecuteTime": {
     "end_time": "2021-07-13T08:48:51.372351Z",
     "start_time": "2021-07-13T08:48:50.728230Z"
    }
   },
   "outputs": [],
   "source": [
    "browser.forward()"
   ]
  },
  {
   "cell_type": "code",
   "execution_count": 8,
   "metadata": {
    "ExecuteTime": {
     "end_time": "2021-07-13T08:49:05.021278Z",
     "start_time": "2021-07-13T08:49:04.724449Z"
    }
   },
   "outputs": [],
   "source": [
    "browser.refresh()"
   ]
  },
  {
   "cell_type": "code",
   "execution_count": 9,
   "metadata": {
    "ExecuteTime": {
     "end_time": "2021-07-13T08:49:21.242868Z",
     "start_time": "2021-07-13T08:49:19.704457Z"
    }
   },
   "outputs": [],
   "source": [
    "browser.back()"
   ]
  },
  {
   "cell_type": "code",
   "execution_count": 10,
   "metadata": {
    "ExecuteTime": {
     "end_time": "2021-07-13T08:51:06.682021Z",
     "start_time": "2021-07-13T08:51:06.650039Z"
    }
   },
   "outputs": [],
   "source": [
    "elem = browser.find_element_by_id(\"query\")"
   ]
  },
  {
   "cell_type": "code",
   "execution_count": 11,
   "metadata": {
    "ExecuteTime": {
     "end_time": "2021-07-13T08:51:19.222173Z",
     "start_time": "2021-07-13T08:51:19.201182Z"
    }
   },
   "outputs": [
    {
     "data": {
      "text/plain": [
       "<selenium.webdriver.remote.webelement.WebElement (session=\"6d5f77ce838267b9921c1a6bb3031c79\", element=\"184c44c5-5b28-4a46-9db5-6d9da6242d84\")>"
      ]
     },
     "execution_count": 11,
     "metadata": {},
     "output_type": "execute_result"
    }
   ],
   "source": [
    "elem"
   ]
  },
  {
   "cell_type": "code",
   "execution_count": 13,
   "metadata": {
    "ExecuteTime": {
     "end_time": "2021-07-13T08:52:23.712906Z",
     "start_time": "2021-07-13T08:52:23.696313Z"
    }
   },
   "outputs": [],
   "source": [
    "from selenium.webdriver.common.keys import Keys"
   ]
  },
  {
   "cell_type": "code",
   "execution_count": 14,
   "metadata": {
    "ExecuteTime": {
     "end_time": "2021-07-13T08:52:38.339593Z",
     "start_time": "2021-07-13T08:52:38.124333Z"
    }
   },
   "outputs": [],
   "source": [
    "elem.send_keys(\"나도코딩\")"
   ]
  },
  {
   "cell_type": "code",
   "execution_count": 17,
   "metadata": {
    "ExecuteTime": {
     "end_time": "2021-07-13T08:53:24.810923Z",
     "start_time": "2021-07-13T08:53:19.977833Z"
    }
   },
   "outputs": [],
   "source": [
    "elem.send_keys(Keys.ENTER) #enter침"
   ]
  },
  {
   "cell_type": "code",
   "execution_count": 18,
   "metadata": {
    "ExecuteTime": {
     "end_time": "2021-07-13T08:53:56.322312Z",
     "start_time": "2021-07-13T08:53:56.274481Z"
    }
   },
   "outputs": [],
   "source": [
    "elem = browser.find_element_by_tag_name(\"a\")"
   ]
  },
  {
   "cell_type": "code",
   "execution_count": 19,
   "metadata": {
    "ExecuteTime": {
     "end_time": "2021-07-13T08:53:58.540410Z",
     "start_time": "2021-07-13T08:53:58.529269Z"
    }
   },
   "outputs": [
    {
     "data": {
      "text/plain": [
       "<selenium.webdriver.remote.webelement.WebElement (session=\"6d5f77ce838267b9921c1a6bb3031c79\", element=\"35a2b093-64c1-4071-a3f7-b55d3723c76d\")>"
      ]
     },
     "execution_count": 19,
     "metadata": {},
     "output_type": "execute_result"
    }
   ],
   "source": [
    "elem"
   ]
  },
  {
   "cell_type": "code",
   "execution_count": 20,
   "metadata": {
    "ExecuteTime": {
     "end_time": "2021-07-13T08:54:16.723461Z",
     "start_time": "2021-07-13T08:54:16.636615Z"
    }
   },
   "outputs": [],
   "source": [
    "elem = browser.find_elements_by_tag_name(\"a\") #s 붙이면 다가져옴"
   ]
  },
  {
   "cell_type": "code",
   "execution_count": 21,
   "metadata": {
    "ExecuteTime": {
     "end_time": "2021-07-13T08:54:19.210211Z",
     "start_time": "2021-07-13T08:54:19.170252Z"
    }
   },
   "outputs": [
    {
     "data": {
      "text/plain": [
       "[<selenium.webdriver.remote.webelement.WebElement (session=\"6d5f77ce838267b9921c1a6bb3031c79\", element=\"35a2b093-64c1-4071-a3f7-b55d3723c76d\")>,\n",
       " <selenium.webdriver.remote.webelement.WebElement (session=\"6d5f77ce838267b9921c1a6bb3031c79\", element=\"d6424702-6a12-4ca1-abae-b3cb9c995232\")>,\n",
       " <selenium.webdriver.remote.webelement.WebElement (session=\"6d5f77ce838267b9921c1a6bb3031c79\", element=\"5c45e856-b8cd-4cb2-acdf-2c1f1638be7c\")>,\n",
       " <selenium.webdriver.remote.webelement.WebElement (session=\"6d5f77ce838267b9921c1a6bb3031c79\", element=\"fdce6c0a-7571-49ba-8f16-757a5fdbed9b\")>,\n",
       " <selenium.webdriver.remote.webelement.WebElement (session=\"6d5f77ce838267b9921c1a6bb3031c79\", element=\"54cf9bce-3e6c-45a6-be7e-2c5c205cbaf7\")>,\n",
       " <selenium.webdriver.remote.webelement.WebElement (session=\"6d5f77ce838267b9921c1a6bb3031c79\", element=\"184c259f-7052-4336-a929-17acde584266\")>,\n",
       " <selenium.webdriver.remote.webelement.WebElement (session=\"6d5f77ce838267b9921c1a6bb3031c79\", element=\"ff759b9e-fcd8-4bd5-8bda-910c97082fcf\")>,\n",
       " <selenium.webdriver.remote.webelement.WebElement (session=\"6d5f77ce838267b9921c1a6bb3031c79\", element=\"906821e0-f35a-4fe6-9b76-4f13cb109eb5\")>,\n",
       " <selenium.webdriver.remote.webelement.WebElement (session=\"6d5f77ce838267b9921c1a6bb3031c79\", element=\"a1af1e95-5b50-4655-bef3-cae2459ad18a\")>,\n",
       " <selenium.webdriver.remote.webelement.WebElement (session=\"6d5f77ce838267b9921c1a6bb3031c79\", element=\"2f93b2c5-e5bc-4b52-a3bb-6286991f0b9f\")>,\n",
       " <selenium.webdriver.remote.webelement.WebElement (session=\"6d5f77ce838267b9921c1a6bb3031c79\", element=\"09e4ef66-7d2a-443b-af57-8a8f6b253434\")>,\n",
       " <selenium.webdriver.remote.webelement.WebElement (session=\"6d5f77ce838267b9921c1a6bb3031c79\", element=\"b2ab629b-a558-4c29-9bc4-08d756740524\")>,\n",
       " <selenium.webdriver.remote.webelement.WebElement (session=\"6d5f77ce838267b9921c1a6bb3031c79\", element=\"73534641-7713-4548-bafb-dc3d54310d8b\")>,\n",
       " <selenium.webdriver.remote.webelement.WebElement (session=\"6d5f77ce838267b9921c1a6bb3031c79\", element=\"a40dc7c7-d6a4-414b-ac61-e81e0d4615dd\")>,\n",
       " <selenium.webdriver.remote.webelement.WebElement (session=\"6d5f77ce838267b9921c1a6bb3031c79\", element=\"6ddeb0d8-d16e-42eb-b5e3-ac8ce74f9050\")>,\n",
       " <selenium.webdriver.remote.webelement.WebElement (session=\"6d5f77ce838267b9921c1a6bb3031c79\", element=\"3f5fa7b4-6674-4c3f-ab0d-d020977c41a7\")>,\n",
       " <selenium.webdriver.remote.webelement.WebElement (session=\"6d5f77ce838267b9921c1a6bb3031c79\", element=\"876aaf8a-19ab-4d61-9b14-3a0a68c47eb0\")>,\n",
       " <selenium.webdriver.remote.webelement.WebElement (session=\"6d5f77ce838267b9921c1a6bb3031c79\", element=\"da6bc6f5-6953-4922-b225-ff05121f4fc7\")>,\n",
       " <selenium.webdriver.remote.webelement.WebElement (session=\"6d5f77ce838267b9921c1a6bb3031c79\", element=\"32abe6a6-2a00-4d33-837c-2374ebcf6a8d\")>,\n",
       " <selenium.webdriver.remote.webelement.WebElement (session=\"6d5f77ce838267b9921c1a6bb3031c79\", element=\"f6f521f4-81e2-4a25-9031-c62883a67f0b\")>,\n",
       " <selenium.webdriver.remote.webelement.WebElement (session=\"6d5f77ce838267b9921c1a6bb3031c79\", element=\"e553d298-ac2e-46dc-9abe-57c403b7007c\")>,\n",
       " <selenium.webdriver.remote.webelement.WebElement (session=\"6d5f77ce838267b9921c1a6bb3031c79\", element=\"27be5817-c276-4750-b617-ad3760520003\")>,\n",
       " <selenium.webdriver.remote.webelement.WebElement (session=\"6d5f77ce838267b9921c1a6bb3031c79\", element=\"30507a60-6105-41da-8d22-903c095b870e\")>,\n",
       " <selenium.webdriver.remote.webelement.WebElement (session=\"6d5f77ce838267b9921c1a6bb3031c79\", element=\"b818264e-e1df-4595-92a1-848e2f37c4fe\")>,\n",
       " <selenium.webdriver.remote.webelement.WebElement (session=\"6d5f77ce838267b9921c1a6bb3031c79\", element=\"0b6d11dd-ba3a-4cf5-94cc-b0a919efc260\")>,\n",
       " <selenium.webdriver.remote.webelement.WebElement (session=\"6d5f77ce838267b9921c1a6bb3031c79\", element=\"e964e104-c78d-4b27-9749-88788cf22cb6\")>,\n",
       " <selenium.webdriver.remote.webelement.WebElement (session=\"6d5f77ce838267b9921c1a6bb3031c79\", element=\"4f5a11ff-34f9-42fc-98f5-9ba5ddda09fe\")>,\n",
       " <selenium.webdriver.remote.webelement.WebElement (session=\"6d5f77ce838267b9921c1a6bb3031c79\", element=\"727c3c1a-2db1-48de-9709-19397c007ffa\")>,\n",
       " <selenium.webdriver.remote.webelement.WebElement (session=\"6d5f77ce838267b9921c1a6bb3031c79\", element=\"1615a087-e3f7-430b-b4ac-4d41b4ccf131\")>,\n",
       " <selenium.webdriver.remote.webelement.WebElement (session=\"6d5f77ce838267b9921c1a6bb3031c79\", element=\"524691d1-8301-4797-9eb2-3fbdaf15e938\")>,\n",
       " <selenium.webdriver.remote.webelement.WebElement (session=\"6d5f77ce838267b9921c1a6bb3031c79\", element=\"c4beb27d-83f6-40bf-9a38-7febb4c70d7b\")>,\n",
       " <selenium.webdriver.remote.webelement.WebElement (session=\"6d5f77ce838267b9921c1a6bb3031c79\", element=\"d15f973c-b214-4311-b319-ecfb1737d7ef\")>,\n",
       " <selenium.webdriver.remote.webelement.WebElement (session=\"6d5f77ce838267b9921c1a6bb3031c79\", element=\"9554a757-9a96-4223-b821-82c29590a35c\")>,\n",
       " <selenium.webdriver.remote.webelement.WebElement (session=\"6d5f77ce838267b9921c1a6bb3031c79\", element=\"81636d7c-35b6-4f54-ae68-f52399c17c42\")>,\n",
       " <selenium.webdriver.remote.webelement.WebElement (session=\"6d5f77ce838267b9921c1a6bb3031c79\", element=\"6c7f07c7-604c-4b67-a5ce-255ab25bf31c\")>,\n",
       " <selenium.webdriver.remote.webelement.WebElement (session=\"6d5f77ce838267b9921c1a6bb3031c79\", element=\"db609b39-44a8-4840-b4cf-9f315698ff31\")>,\n",
       " <selenium.webdriver.remote.webelement.WebElement (session=\"6d5f77ce838267b9921c1a6bb3031c79\", element=\"9d2973b4-4976-4b28-9f3c-cf4e4eb1e24f\")>,\n",
       " <selenium.webdriver.remote.webelement.WebElement (session=\"6d5f77ce838267b9921c1a6bb3031c79\", element=\"2146b0ff-1dce-497a-8f8c-f5dc0a73fbf9\")>,\n",
       " <selenium.webdriver.remote.webelement.WebElement (session=\"6d5f77ce838267b9921c1a6bb3031c79\", element=\"86a7e52c-2092-4a7f-bc9b-704a4d3d1a67\")>,\n",
       " <selenium.webdriver.remote.webelement.WebElement (session=\"6d5f77ce838267b9921c1a6bb3031c79\", element=\"72e163e7-2931-4269-9347-46f2bc234141\")>,\n",
       " <selenium.webdriver.remote.webelement.WebElement (session=\"6d5f77ce838267b9921c1a6bb3031c79\", element=\"8010cc2f-bcc6-4442-818d-a67f8876cc0e\")>,\n",
       " <selenium.webdriver.remote.webelement.WebElement (session=\"6d5f77ce838267b9921c1a6bb3031c79\", element=\"6d9c9299-982c-4beb-a7c3-f3990d217c5a\")>,\n",
       " <selenium.webdriver.remote.webelement.WebElement (session=\"6d5f77ce838267b9921c1a6bb3031c79\", element=\"a73b420d-6207-40da-a7a4-c4ae29353d62\")>,\n",
       " <selenium.webdriver.remote.webelement.WebElement (session=\"6d5f77ce838267b9921c1a6bb3031c79\", element=\"895e454d-da7c-428f-99e2-1ac35bbef721\")>,\n",
       " <selenium.webdriver.remote.webelement.WebElement (session=\"6d5f77ce838267b9921c1a6bb3031c79\", element=\"a6f07e01-8873-4824-b7d7-cc84e9a8b8f1\")>,\n",
       " <selenium.webdriver.remote.webelement.WebElement (session=\"6d5f77ce838267b9921c1a6bb3031c79\", element=\"91cd6b4a-7709-4a27-9dbb-979c8bd0e0df\")>,\n",
       " <selenium.webdriver.remote.webelement.WebElement (session=\"6d5f77ce838267b9921c1a6bb3031c79\", element=\"091c3334-70aa-4818-8942-74c67bfdbc36\")>,\n",
       " <selenium.webdriver.remote.webelement.WebElement (session=\"6d5f77ce838267b9921c1a6bb3031c79\", element=\"f066aaa5-60ee-4045-ac6e-eebd68eedd03\")>,\n",
       " <selenium.webdriver.remote.webelement.WebElement (session=\"6d5f77ce838267b9921c1a6bb3031c79\", element=\"37dc4a31-92fd-4c9d-88fe-10ccf8f66ae4\")>,\n",
       " <selenium.webdriver.remote.webelement.WebElement (session=\"6d5f77ce838267b9921c1a6bb3031c79\", element=\"1cf8efe0-3143-4b74-988f-f5c4c887ca4e\")>,\n",
       " <selenium.webdriver.remote.webelement.WebElement (session=\"6d5f77ce838267b9921c1a6bb3031c79\", element=\"8558d6c7-34e4-4d98-be13-2f19b1568d4d\")>,\n",
       " <selenium.webdriver.remote.webelement.WebElement (session=\"6d5f77ce838267b9921c1a6bb3031c79\", element=\"89adcc73-9a94-4b3e-b466-5fee7fa0a28c\")>,\n",
       " <selenium.webdriver.remote.webelement.WebElement (session=\"6d5f77ce838267b9921c1a6bb3031c79\", element=\"b011f7e4-d718-4ff1-bc55-2c9e3b13e417\")>,\n",
       " <selenium.webdriver.remote.webelement.WebElement (session=\"6d5f77ce838267b9921c1a6bb3031c79\", element=\"127ef749-70ca-43ed-95c4-15e5d932630d\")>,\n",
       " <selenium.webdriver.remote.webelement.WebElement (session=\"6d5f77ce838267b9921c1a6bb3031c79\", element=\"76391a8e-7877-4222-9c3a-f57562cd96b7\")>,\n",
       " <selenium.webdriver.remote.webelement.WebElement (session=\"6d5f77ce838267b9921c1a6bb3031c79\", element=\"3b628f94-9df7-491a-8a94-048f76e6e3c5\")>,\n",
       " <selenium.webdriver.remote.webelement.WebElement (session=\"6d5f77ce838267b9921c1a6bb3031c79\", element=\"613a6d41-d6c7-42b5-8975-6043ba71f4de\")>,\n",
       " <selenium.webdriver.remote.webelement.WebElement (session=\"6d5f77ce838267b9921c1a6bb3031c79\", element=\"6a340695-aba3-4075-b98e-d38d41627d8d\")>,\n",
       " <selenium.webdriver.remote.webelement.WebElement (session=\"6d5f77ce838267b9921c1a6bb3031c79\", element=\"43e8e23a-4dcc-4ef7-884f-4ce50e51dea2\")>,\n",
       " <selenium.webdriver.remote.webelement.WebElement (session=\"6d5f77ce838267b9921c1a6bb3031c79\", element=\"797bf653-17f2-426d-934c-f1e13b2e5fc1\")>,\n",
       " <selenium.webdriver.remote.webelement.WebElement (session=\"6d5f77ce838267b9921c1a6bb3031c79\", element=\"23efb583-05d7-4da9-9eee-480bdc9d7a65\")>,\n",
       " <selenium.webdriver.remote.webelement.WebElement (session=\"6d5f77ce838267b9921c1a6bb3031c79\", element=\"2617f617-ad63-40fa-9c33-672c9c7ceeb9\")>,\n",
       " <selenium.webdriver.remote.webelement.WebElement (session=\"6d5f77ce838267b9921c1a6bb3031c79\", element=\"78ae2219-15c2-4810-9084-8cd0f0b1907b\")>,\n",
       " <selenium.webdriver.remote.webelement.WebElement (session=\"6d5f77ce838267b9921c1a6bb3031c79\", element=\"867cf730-31a6-4625-b780-a1c7437d31f9\")>,\n",
       " <selenium.webdriver.remote.webelement.WebElement (session=\"6d5f77ce838267b9921c1a6bb3031c79\", element=\"2575c203-e720-4861-b7f4-6ad403dc8f2b\")>,\n",
       " <selenium.webdriver.remote.webelement.WebElement (session=\"6d5f77ce838267b9921c1a6bb3031c79\", element=\"cf53e63d-8ce5-4fce-8436-57e9d4aa8596\")>,\n",
       " <selenium.webdriver.remote.webelement.WebElement (session=\"6d5f77ce838267b9921c1a6bb3031c79\", element=\"38b44435-2917-4c71-ad8d-6605567c9baa\")>,\n",
       " <selenium.webdriver.remote.webelement.WebElement (session=\"6d5f77ce838267b9921c1a6bb3031c79\", element=\"f988ec1f-8c1d-4fb7-9d88-325f33f8d241\")>,\n",
       " <selenium.webdriver.remote.webelement.WebElement (session=\"6d5f77ce838267b9921c1a6bb3031c79\", element=\"441bcfac-e296-469a-97a2-c15f0fecd0ec\")>,\n",
       " <selenium.webdriver.remote.webelement.WebElement (session=\"6d5f77ce838267b9921c1a6bb3031c79\", element=\"b9eb3de7-f41b-44a9-8664-073e7f2e0fcd\")>,\n",
       " <selenium.webdriver.remote.webelement.WebElement (session=\"6d5f77ce838267b9921c1a6bb3031c79\", element=\"b9af8c15-d026-43e9-8840-65d8b58fab2e\")>,\n",
       " <selenium.webdriver.remote.webelement.WebElement (session=\"6d5f77ce838267b9921c1a6bb3031c79\", element=\"189c0760-109b-485a-9bac-3ecb10286b7a\")>,\n",
       " <selenium.webdriver.remote.webelement.WebElement (session=\"6d5f77ce838267b9921c1a6bb3031c79\", element=\"d20ce5a6-37b3-4239-b2fb-1fd051ef9398\")>,\n",
       " <selenium.webdriver.remote.webelement.WebElement (session=\"6d5f77ce838267b9921c1a6bb3031c79\", element=\"1dca436f-b6e3-4b4e-870b-076e4e42a5a1\")>,\n",
       " <selenium.webdriver.remote.webelement.WebElement (session=\"6d5f77ce838267b9921c1a6bb3031c79\", element=\"6e3129a1-8c85-4143-a18c-730fbff98796\")>,\n",
       " <selenium.webdriver.remote.webelement.WebElement (session=\"6d5f77ce838267b9921c1a6bb3031c79\", element=\"3aa55439-e4bf-4702-bc9e-ad997433ec42\")>,\n",
       " <selenium.webdriver.remote.webelement.WebElement (session=\"6d5f77ce838267b9921c1a6bb3031c79\", element=\"f26eca31-58a4-48bf-91f8-b657b5ac0a3b\")>,\n",
       " <selenium.webdriver.remote.webelement.WebElement (session=\"6d5f77ce838267b9921c1a6bb3031c79\", element=\"7eb3475f-d122-4ea2-8e9e-441abc19dcc4\")>,\n",
       " <selenium.webdriver.remote.webelement.WebElement (session=\"6d5f77ce838267b9921c1a6bb3031c79\", element=\"1fb89878-bc7f-4a5c-9f3f-ed8c2492cc28\")>,\n",
       " <selenium.webdriver.remote.webelement.WebElement (session=\"6d5f77ce838267b9921c1a6bb3031c79\", element=\"97af5c35-3988-47b9-8b82-963de7b5aced\")>,\n",
       " <selenium.webdriver.remote.webelement.WebElement (session=\"6d5f77ce838267b9921c1a6bb3031c79\", element=\"8730ed1a-71bb-446d-b1e4-471d90b741c4\")>,\n",
       " <selenium.webdriver.remote.webelement.WebElement (session=\"6d5f77ce838267b9921c1a6bb3031c79\", element=\"c08e00aa-437e-468b-abed-666f340b5b32\")>,\n",
       " <selenium.webdriver.remote.webelement.WebElement (session=\"6d5f77ce838267b9921c1a6bb3031c79\", element=\"16e00efa-60ac-4eb6-8ed7-14a0a093ea9b\")>,\n",
       " <selenium.webdriver.remote.webelement.WebElement (session=\"6d5f77ce838267b9921c1a6bb3031c79\", element=\"d6d5aad2-dc3f-4abe-b847-6d4b1950240d\")>,\n",
       " <selenium.webdriver.remote.webelement.WebElement (session=\"6d5f77ce838267b9921c1a6bb3031c79\", element=\"d6a0670e-4f3d-4180-898f-c9c431947dfc\")>,\n",
       " <selenium.webdriver.remote.webelement.WebElement (session=\"6d5f77ce838267b9921c1a6bb3031c79\", element=\"71dc966b-e017-4b90-81fe-37a0821c3475\")>,\n",
       " <selenium.webdriver.remote.webelement.WebElement (session=\"6d5f77ce838267b9921c1a6bb3031c79\", element=\"4fe90f2a-8ec0-4c04-aa70-437380d52ad0\")>,\n",
       " <selenium.webdriver.remote.webelement.WebElement (session=\"6d5f77ce838267b9921c1a6bb3031c79\", element=\"0f844687-c691-48bb-a164-bf35fc052514\")>,\n",
       " <selenium.webdriver.remote.webelement.WebElement (session=\"6d5f77ce838267b9921c1a6bb3031c79\", element=\"9cd241be-2b99-4947-ac61-7cb0fc512b4e\")>,\n",
       " <selenium.webdriver.remote.webelement.WebElement (session=\"6d5f77ce838267b9921c1a6bb3031c79\", element=\"4b123422-d949-4450-9162-9fb6468fe31f\")>,\n",
       " <selenium.webdriver.remote.webelement.WebElement (session=\"6d5f77ce838267b9921c1a6bb3031c79\", element=\"9c14c54d-5719-40bc-90eb-d0fb190ad374\")>,\n",
       " <selenium.webdriver.remote.webelement.WebElement (session=\"6d5f77ce838267b9921c1a6bb3031c79\", element=\"ece92371-b33a-4a00-bd31-bf52ee7186cc\")>,\n",
       " <selenium.webdriver.remote.webelement.WebElement (session=\"6d5f77ce838267b9921c1a6bb3031c79\", element=\"c3a654f7-8290-4f2b-9b69-711169c3ae79\")>,\n",
       " <selenium.webdriver.remote.webelement.WebElement (session=\"6d5f77ce838267b9921c1a6bb3031c79\", element=\"142f4936-0a24-4f0b-b433-1bac49807a28\")>,\n",
       " <selenium.webdriver.remote.webelement.WebElement (session=\"6d5f77ce838267b9921c1a6bb3031c79\", element=\"47f775be-aa1a-4cf0-b2e2-62c5739dc812\")>,\n",
       " <selenium.webdriver.remote.webelement.WebElement (session=\"6d5f77ce838267b9921c1a6bb3031c79\", element=\"54490c46-d498-47b6-aa51-3151eb7fec2a\")>,\n",
       " <selenium.webdriver.remote.webelement.WebElement (session=\"6d5f77ce838267b9921c1a6bb3031c79\", element=\"5c6da767-0ecd-43db-9058-4eaf2d2fd275\")>,\n",
       " <selenium.webdriver.remote.webelement.WebElement (session=\"6d5f77ce838267b9921c1a6bb3031c79\", element=\"da1babbb-8cd0-40c0-ad2b-efac92ec53dc\")>,\n",
       " <selenium.webdriver.remote.webelement.WebElement (session=\"6d5f77ce838267b9921c1a6bb3031c79\", element=\"5e884b0d-1bf8-4a1b-9474-a24aca2342ed\")>,\n",
       " <selenium.webdriver.remote.webelement.WebElement (session=\"6d5f77ce838267b9921c1a6bb3031c79\", element=\"aa3851ef-6c9e-4375-8f1b-1d471b1621c2\")>,\n",
       " <selenium.webdriver.remote.webelement.WebElement (session=\"6d5f77ce838267b9921c1a6bb3031c79\", element=\"39f2b8a9-6258-4111-8280-beec50536b4d\")>,\n",
       " <selenium.webdriver.remote.webelement.WebElement (session=\"6d5f77ce838267b9921c1a6bb3031c79\", element=\"7d12eee5-d2e3-4524-ba62-aec72f35973d\")>,\n",
       " <selenium.webdriver.remote.webelement.WebElement (session=\"6d5f77ce838267b9921c1a6bb3031c79\", element=\"4e0923e6-0618-4a54-8e95-63c0242700c5\")>,\n",
       " <selenium.webdriver.remote.webelement.WebElement (session=\"6d5f77ce838267b9921c1a6bb3031c79\", element=\"de63dd30-ee3a-4a43-9ce1-3c790e0bfbca\")>,\n",
       " <selenium.webdriver.remote.webelement.WebElement (session=\"6d5f77ce838267b9921c1a6bb3031c79\", element=\"42805bfe-7c94-419d-a7f1-045946610f7a\")>,\n",
       " <selenium.webdriver.remote.webelement.WebElement (session=\"6d5f77ce838267b9921c1a6bb3031c79\", element=\"d1af4e1b-7a7b-4b84-a504-254e3469e596\")>,\n",
       " <selenium.webdriver.remote.webelement.WebElement (session=\"6d5f77ce838267b9921c1a6bb3031c79\", element=\"844730f2-9857-4a4c-bb8a-19cd29c2f44f\")>,\n",
       " <selenium.webdriver.remote.webelement.WebElement (session=\"6d5f77ce838267b9921c1a6bb3031c79\", element=\"be2c6520-dea7-4c82-a936-750baf119f9a\")>,\n",
       " <selenium.webdriver.remote.webelement.WebElement (session=\"6d5f77ce838267b9921c1a6bb3031c79\", element=\"e1feba9e-9119-40cc-b85f-e812b59bb631\")>,\n",
       " <selenium.webdriver.remote.webelement.WebElement (session=\"6d5f77ce838267b9921c1a6bb3031c79\", element=\"c66f1a41-2e1f-4861-a90b-8c80c9f740aa\")>,\n",
       " <selenium.webdriver.remote.webelement.WebElement (session=\"6d5f77ce838267b9921c1a6bb3031c79\", element=\"b35c2a85-0795-4e4e-9f2f-266a9af2fc25\")>,\n",
       " <selenium.webdriver.remote.webelement.WebElement (session=\"6d5f77ce838267b9921c1a6bb3031c79\", element=\"aa24960b-d10a-4615-85b0-ea1c2667325b\")>,\n",
       " <selenium.webdriver.remote.webelement.WebElement (session=\"6d5f77ce838267b9921c1a6bb3031c79\", element=\"ed5fce9c-fab8-496a-9a4c-0a5576c3bff2\")>,\n",
       " <selenium.webdriver.remote.webelement.WebElement (session=\"6d5f77ce838267b9921c1a6bb3031c79\", element=\"dfc6817d-ddfe-49da-bcd3-24b65f31c1a9\")>,\n",
       " <selenium.webdriver.remote.webelement.WebElement (session=\"6d5f77ce838267b9921c1a6bb3031c79\", element=\"00070b94-5ce4-47f7-a5e2-067efd64f30f\")>,\n",
       " <selenium.webdriver.remote.webelement.WebElement (session=\"6d5f77ce838267b9921c1a6bb3031c79\", element=\"b4defc77-08db-4913-b779-0e87edc58973\")>,\n",
       " <selenium.webdriver.remote.webelement.WebElement (session=\"6d5f77ce838267b9921c1a6bb3031c79\", element=\"d8a0fe68-30e5-4b19-a0de-9e6c81f3facc\")>,\n",
       " <selenium.webdriver.remote.webelement.WebElement (session=\"6d5f77ce838267b9921c1a6bb3031c79\", element=\"1411ed39-50bf-404d-be35-66f39a5c7fc6\")>,\n",
       " <selenium.webdriver.remote.webelement.WebElement (session=\"6d5f77ce838267b9921c1a6bb3031c79\", element=\"bc332396-6eb6-4c5c-96ec-a43aaa74e300\")>,\n",
       " <selenium.webdriver.remote.webelement.WebElement (session=\"6d5f77ce838267b9921c1a6bb3031c79\", element=\"bd1ad994-b5b4-4f15-8437-95f76fd18c91\")>,\n",
       " <selenium.webdriver.remote.webelement.WebElement (session=\"6d5f77ce838267b9921c1a6bb3031c79\", element=\"ab6766f0-356c-4848-8c34-7f0c16b213d9\")>,\n",
       " <selenium.webdriver.remote.webelement.WebElement (session=\"6d5f77ce838267b9921c1a6bb3031c79\", element=\"df8cdb46-c5b6-4ed9-b433-ff60273c93fc\")>,\n",
       " <selenium.webdriver.remote.webelement.WebElement (session=\"6d5f77ce838267b9921c1a6bb3031c79\", element=\"f5d25f3d-f788-48fb-b4dc-902fe360851a\")>,\n",
       " <selenium.webdriver.remote.webelement.WebElement (session=\"6d5f77ce838267b9921c1a6bb3031c79\", element=\"10c0c46b-902f-4acb-9a31-5490b6d795ff\")>,\n",
       " <selenium.webdriver.remote.webelement.WebElement (session=\"6d5f77ce838267b9921c1a6bb3031c79\", element=\"b041e4e3-c7bf-45f5-84d0-136dfa6a8556\")>,\n",
       " <selenium.webdriver.remote.webelement.WebElement (session=\"6d5f77ce838267b9921c1a6bb3031c79\", element=\"da7b5a46-d4c4-4c50-9c54-28c9c8db8bcb\")>,\n",
       " <selenium.webdriver.remote.webelement.WebElement (session=\"6d5f77ce838267b9921c1a6bb3031c79\", element=\"29b992e7-1031-4e1d-b89a-a79600d3e16a\")>,\n",
       " <selenium.webdriver.remote.webelement.WebElement (session=\"6d5f77ce838267b9921c1a6bb3031c79\", element=\"552d24c1-394c-4d53-b07e-bfe09491e58b\")>,\n",
       " <selenium.webdriver.remote.webelement.WebElement (session=\"6d5f77ce838267b9921c1a6bb3031c79\", element=\"a41243d1-4447-4595-a07d-704dc6c26d4e\")>,\n",
       " <selenium.webdriver.remote.webelement.WebElement (session=\"6d5f77ce838267b9921c1a6bb3031c79\", element=\"6aef777b-0192-4c12-9f9b-f0cea3b044a5\")>,\n",
       " <selenium.webdriver.remote.webelement.WebElement (session=\"6d5f77ce838267b9921c1a6bb3031c79\", element=\"f0dff337-9a7b-4c36-83c0-dc5e701f2846\")>,\n",
       " <selenium.webdriver.remote.webelement.WebElement (session=\"6d5f77ce838267b9921c1a6bb3031c79\", element=\"f91b1704-eed3-4746-851e-a2843f6c1138\")>,\n",
       " <selenium.webdriver.remote.webelement.WebElement (session=\"6d5f77ce838267b9921c1a6bb3031c79\", element=\"62772f55-398c-4a0d-bdfc-40562b64daa4\")>,\n",
       " <selenium.webdriver.remote.webelement.WebElement (session=\"6d5f77ce838267b9921c1a6bb3031c79\", element=\"1dec41b5-2060-4caf-9cae-33af7e50e008\")>,\n",
       " <selenium.webdriver.remote.webelement.WebElement (session=\"6d5f77ce838267b9921c1a6bb3031c79\", element=\"c342c7ff-68a3-4aa3-a02f-ca89c95a70e8\")>,\n",
       " <selenium.webdriver.remote.webelement.WebElement (session=\"6d5f77ce838267b9921c1a6bb3031c79\", element=\"2f4fdf3d-dc74-494f-967a-10f4cfe64692\")>,\n",
       " <selenium.webdriver.remote.webelement.WebElement (session=\"6d5f77ce838267b9921c1a6bb3031c79\", element=\"94c9e233-5632-4221-a257-971e9feae074\")>,\n",
       " <selenium.webdriver.remote.webelement.WebElement (session=\"6d5f77ce838267b9921c1a6bb3031c79\", element=\"f26917dd-f647-4858-a351-a78fa0719f69\")>,\n",
       " <selenium.webdriver.remote.webelement.WebElement (session=\"6d5f77ce838267b9921c1a6bb3031c79\", element=\"529e1230-59f2-4fe3-8bc4-a48511cbde7c\")>,\n",
       " <selenium.webdriver.remote.webelement.WebElement (session=\"6d5f77ce838267b9921c1a6bb3031c79\", element=\"0a02e506-6ca0-4a23-aead-4deecc5581f9\")>,\n",
       " <selenium.webdriver.remote.webelement.WebElement (session=\"6d5f77ce838267b9921c1a6bb3031c79\", element=\"cdfa1567-01cf-460b-ab23-65a1e869943d\")>,\n",
       " <selenium.webdriver.remote.webelement.WebElement (session=\"6d5f77ce838267b9921c1a6bb3031c79\", element=\"14235444-34fe-4fd8-8a8d-5f714dc14c4e\")>,\n",
       " <selenium.webdriver.remote.webelement.WebElement (session=\"6d5f77ce838267b9921c1a6bb3031c79\", element=\"c4454a77-599f-43cc-8b4a-1607f1f88f7a\")>,\n",
       " <selenium.webdriver.remote.webelement.WebElement (session=\"6d5f77ce838267b9921c1a6bb3031c79\", element=\"ffa8d99f-ad5f-478e-972d-c80ecb7c481d\")>,\n",
       " <selenium.webdriver.remote.webelement.WebElement (session=\"6d5f77ce838267b9921c1a6bb3031c79\", element=\"5ab1ff7d-855c-4416-865c-50bec899fa29\")>,\n",
       " <selenium.webdriver.remote.webelement.WebElement (session=\"6d5f77ce838267b9921c1a6bb3031c79\", element=\"20b4d40c-5a4b-46da-8269-1cb877583ab0\")>,\n",
       " <selenium.webdriver.remote.webelement.WebElement (session=\"6d5f77ce838267b9921c1a6bb3031c79\", element=\"5c0f9a3c-2714-4544-b9ab-ae938c58e2f4\")>,\n",
       " <selenium.webdriver.remote.webelement.WebElement (session=\"6d5f77ce838267b9921c1a6bb3031c79\", element=\"3a54b895-d739-490b-88a4-9604d9456f9b\")>,\n",
       " <selenium.webdriver.remote.webelement.WebElement (session=\"6d5f77ce838267b9921c1a6bb3031c79\", element=\"f5254978-dac8-4e72-a27f-b711091631c6\")>,\n",
       " <selenium.webdriver.remote.webelement.WebElement (session=\"6d5f77ce838267b9921c1a6bb3031c79\", element=\"bfd93be7-39c0-4434-902f-2034b4045bb8\")>,\n",
       " <selenium.webdriver.remote.webelement.WebElement (session=\"6d5f77ce838267b9921c1a6bb3031c79\", element=\"ab36302a-03a6-4d0e-8eaf-476083f0fbcc\")>,\n",
       " <selenium.webdriver.remote.webelement.WebElement (session=\"6d5f77ce838267b9921c1a6bb3031c79\", element=\"9727cd65-d55b-497f-91ba-97b77acc2269\")>,\n",
       " <selenium.webdriver.remote.webelement.WebElement (session=\"6d5f77ce838267b9921c1a6bb3031c79\", element=\"e976a74b-5ea8-43bd-a59e-7759a44ee198\")>,\n",
       " <selenium.webdriver.remote.webelement.WebElement (session=\"6d5f77ce838267b9921c1a6bb3031c79\", element=\"a059a635-c55b-4733-a40b-80ef020c914e\")>,\n",
       " <selenium.webdriver.remote.webelement.WebElement (session=\"6d5f77ce838267b9921c1a6bb3031c79\", element=\"cc94b7c9-6c25-4390-91a8-663756f616da\")>,\n",
       " <selenium.webdriver.remote.webelement.WebElement (session=\"6d5f77ce838267b9921c1a6bb3031c79\", element=\"39613cc4-7bfc-4b6f-a415-25f924819cc2\")>,\n",
       " <selenium.webdriver.remote.webelement.WebElement (session=\"6d5f77ce838267b9921c1a6bb3031c79\", element=\"68ba2f3b-06be-4b2c-b24c-80efdc4f6979\")>,\n",
       " <selenium.webdriver.remote.webelement.WebElement (session=\"6d5f77ce838267b9921c1a6bb3031c79\", element=\"7d2f8c42-5d84-40c4-aa3e-0d2447a586f4\")>,\n",
       " <selenium.webdriver.remote.webelement.WebElement (session=\"6d5f77ce838267b9921c1a6bb3031c79\", element=\"29d50867-ba25-41cc-8d51-73402b4ca64a\")>,\n",
       " <selenium.webdriver.remote.webelement.WebElement (session=\"6d5f77ce838267b9921c1a6bb3031c79\", element=\"ea93a927-f752-47dd-8823-c30a7804776e\")>,\n",
       " <selenium.webdriver.remote.webelement.WebElement (session=\"6d5f77ce838267b9921c1a6bb3031c79\", element=\"2be033f6-aedb-43bf-b52a-f79accda99cf\")>,\n",
       " <selenium.webdriver.remote.webelement.WebElement (session=\"6d5f77ce838267b9921c1a6bb3031c79\", element=\"14f9a25f-8b46-435d-86f0-34b8a951e16f\")>,\n",
       " <selenium.webdriver.remote.webelement.WebElement (session=\"6d5f77ce838267b9921c1a6bb3031c79\", element=\"74bda133-b7f4-44dc-a52f-5839bf219cfa\")>,\n",
       " <selenium.webdriver.remote.webelement.WebElement (session=\"6d5f77ce838267b9921c1a6bb3031c79\", element=\"e83b28e0-84d8-47c5-8b3b-962862737402\")>,\n",
       " <selenium.webdriver.remote.webelement.WebElement (session=\"6d5f77ce838267b9921c1a6bb3031c79\", element=\"0f81288f-17d9-4d1b-a720-c8323c1b146c\")>,\n",
       " <selenium.webdriver.remote.webelement.WebElement (session=\"6d5f77ce838267b9921c1a6bb3031c79\", element=\"1b7edfc1-b412-413a-8b84-178d8ba4d0c1\")>,\n",
       " <selenium.webdriver.remote.webelement.WebElement (session=\"6d5f77ce838267b9921c1a6bb3031c79\", element=\"b2e5e789-b1fd-4b97-8a37-2a5e4e9c5a3a\")>,\n",
       " <selenium.webdriver.remote.webelement.WebElement (session=\"6d5f77ce838267b9921c1a6bb3031c79\", element=\"214da9b1-8a31-4176-82e8-08a2f035919f\")>,\n",
       " <selenium.webdriver.remote.webelement.WebElement (session=\"6d5f77ce838267b9921c1a6bb3031c79\", element=\"bd38a5de-39b1-4b52-8dd0-a330a8f4f73d\")>,\n",
       " <selenium.webdriver.remote.webelement.WebElement (session=\"6d5f77ce838267b9921c1a6bb3031c79\", element=\"ef4259cd-b7d7-4034-918c-acc05a6967b9\")>,\n",
       " <selenium.webdriver.remote.webelement.WebElement (session=\"6d5f77ce838267b9921c1a6bb3031c79\", element=\"ffa7f6d7-14a4-410c-a041-3315e6b98507\")>,\n",
       " <selenium.webdriver.remote.webelement.WebElement (session=\"6d5f77ce838267b9921c1a6bb3031c79\", element=\"90ea22a7-0b37-44dd-92c8-86aedb8fc637\")>,\n",
       " <selenium.webdriver.remote.webelement.WebElement (session=\"6d5f77ce838267b9921c1a6bb3031c79\", element=\"a4ce9b7c-c9c6-49f3-bab9-794adf0beb96\")>,\n",
       " <selenium.webdriver.remote.webelement.WebElement (session=\"6d5f77ce838267b9921c1a6bb3031c79\", element=\"ad21e786-d957-4940-a868-d37a418c7a77\")>,\n",
       " <selenium.webdriver.remote.webelement.WebElement (session=\"6d5f77ce838267b9921c1a6bb3031c79\", element=\"6da8080e-5219-4051-802c-767b91a8e0ba\")>,\n",
       " <selenium.webdriver.remote.webelement.WebElement (session=\"6d5f77ce838267b9921c1a6bb3031c79\", element=\"bc823a67-3132-466c-bc5c-3dc23fcdc32c\")>,\n",
       " <selenium.webdriver.remote.webelement.WebElement (session=\"6d5f77ce838267b9921c1a6bb3031c79\", element=\"60ecd744-1838-44bf-8591-d5c8c561820a\")>,\n",
       " <selenium.webdriver.remote.webelement.WebElement (session=\"6d5f77ce838267b9921c1a6bb3031c79\", element=\"f3541e04-20aa-402c-b6f1-496ad17b803f\")>,\n",
       " <selenium.webdriver.remote.webelement.WebElement (session=\"6d5f77ce838267b9921c1a6bb3031c79\", element=\"4afab861-91b4-4ec5-a10a-49c35764cfa5\")>,\n",
       " <selenium.webdriver.remote.webelement.WebElement (session=\"6d5f77ce838267b9921c1a6bb3031c79\", element=\"ea5b09c4-a10d-48c7-9a31-80af5f685cfc\")>,\n",
       " <selenium.webdriver.remote.webelement.WebElement (session=\"6d5f77ce838267b9921c1a6bb3031c79\", element=\"fe013386-eff9-4e8c-8f84-56a50037bac5\")>,\n",
       " <selenium.webdriver.remote.webelement.WebElement (session=\"6d5f77ce838267b9921c1a6bb3031c79\", element=\"cd0b9fba-185f-4422-a59f-62049468f554\")>,\n",
       " <selenium.webdriver.remote.webelement.WebElement (session=\"6d5f77ce838267b9921c1a6bb3031c79\", element=\"f15269c3-3cfc-48dd-a88d-4829b2689365\")>,\n",
       " <selenium.webdriver.remote.webelement.WebElement (session=\"6d5f77ce838267b9921c1a6bb3031c79\", element=\"a8a634a1-8ae2-45b0-8367-fc51706618ff\")>,\n",
       " <selenium.webdriver.remote.webelement.WebElement (session=\"6d5f77ce838267b9921c1a6bb3031c79\", element=\"e8c5fb8c-4b6e-4923-a144-31a49a788411\")>,\n",
       " <selenium.webdriver.remote.webelement.WebElement (session=\"6d5f77ce838267b9921c1a6bb3031c79\", element=\"65beaf8a-d375-4745-b4c8-d4c60e8414d4\")>,\n",
       " <selenium.webdriver.remote.webelement.WebElement (session=\"6d5f77ce838267b9921c1a6bb3031c79\", element=\"3f794837-7376-4bd8-9a52-e199241f5104\")>,\n",
       " <selenium.webdriver.remote.webelement.WebElement (session=\"6d5f77ce838267b9921c1a6bb3031c79\", element=\"1f0f3ee8-23ae-4dba-85b2-d0c25672af04\")>,\n",
       " <selenium.webdriver.remote.webelement.WebElement (session=\"6d5f77ce838267b9921c1a6bb3031c79\", element=\"d3f22f69-2319-4b72-b31b-6676d69f1cbb\")>,\n",
       " <selenium.webdriver.remote.webelement.WebElement (session=\"6d5f77ce838267b9921c1a6bb3031c79\", element=\"ea5a4f17-ebf2-41eb-8af1-64b370bff423\")>,\n",
       " <selenium.webdriver.remote.webelement.WebElement (session=\"6d5f77ce838267b9921c1a6bb3031c79\", element=\"8985b30f-cf1f-4f68-ace7-63f59dcc31a4\")>,\n",
       " <selenium.webdriver.remote.webelement.WebElement (session=\"6d5f77ce838267b9921c1a6bb3031c79\", element=\"79093eef-593f-462a-9a56-fb20bc9d6512\")>,\n",
       " <selenium.webdriver.remote.webelement.WebElement (session=\"6d5f77ce838267b9921c1a6bb3031c79\", element=\"280dbabe-ead0-40a5-babf-255a5ac13336\")>,\n",
       " <selenium.webdriver.remote.webelement.WebElement (session=\"6d5f77ce838267b9921c1a6bb3031c79\", element=\"c60bb7b3-eeed-47ee-89d5-a90e50382418\")>,\n",
       " <selenium.webdriver.remote.webelement.WebElement (session=\"6d5f77ce838267b9921c1a6bb3031c79\", element=\"36405474-199a-4f2a-8bdd-a12a69ba3ad9\")>,\n",
       " <selenium.webdriver.remote.webelement.WebElement (session=\"6d5f77ce838267b9921c1a6bb3031c79\", element=\"8c5af334-fb7d-4e42-a3ee-43da722dc116\")>,\n",
       " <selenium.webdriver.remote.webelement.WebElement (session=\"6d5f77ce838267b9921c1a6bb3031c79\", element=\"c03661e0-e01f-4776-8a1b-23244b055757\")>,\n",
       " <selenium.webdriver.remote.webelement.WebElement (session=\"6d5f77ce838267b9921c1a6bb3031c79\", element=\"b73f21ec-83d9-4c20-91dc-1d5ce35bef7f\")>,\n",
       " <selenium.webdriver.remote.webelement.WebElement (session=\"6d5f77ce838267b9921c1a6bb3031c79\", element=\"e83d8442-95c3-434a-9b10-4267a0543e87\")>,\n",
       " <selenium.webdriver.remote.webelement.WebElement (session=\"6d5f77ce838267b9921c1a6bb3031c79\", element=\"3a0bcc7b-1c41-4a84-be98-5ed4142e3695\")>,\n",
       " <selenium.webdriver.remote.webelement.WebElement (session=\"6d5f77ce838267b9921c1a6bb3031c79\", element=\"abdaa154-94bf-4693-a6ee-b1f5f5aa9bf6\")>,\n",
       " <selenium.webdriver.remote.webelement.WebElement (session=\"6d5f77ce838267b9921c1a6bb3031c79\", element=\"66029fdd-0a6c-43d0-b577-4fdf8690506b\")>,\n",
       " <selenium.webdriver.remote.webelement.WebElement (session=\"6d5f77ce838267b9921c1a6bb3031c79\", element=\"7422253d-fba4-4618-96bc-754dc67a1651\")>,\n",
       " <selenium.webdriver.remote.webelement.WebElement (session=\"6d5f77ce838267b9921c1a6bb3031c79\", element=\"2ea3c6b7-6299-4121-aa23-98318b9b25a8\")>,\n",
       " <selenium.webdriver.remote.webelement.WebElement (session=\"6d5f77ce838267b9921c1a6bb3031c79\", element=\"8070cb5a-12db-46f6-9436-70a6a9f96b03\")>,\n",
       " <selenium.webdriver.remote.webelement.WebElement (session=\"6d5f77ce838267b9921c1a6bb3031c79\", element=\"4ee20e9c-58e0-41ba-af88-f121cd16f00a\")>,\n",
       " <selenium.webdriver.remote.webelement.WebElement (session=\"6d5f77ce838267b9921c1a6bb3031c79\", element=\"2ee14b61-aa50-4aaa-8f8a-092fe40d845e\")>,\n",
       " <selenium.webdriver.remote.webelement.WebElement (session=\"6d5f77ce838267b9921c1a6bb3031c79\", element=\"707163b0-3403-4213-8900-7f52f050b69b\")>,\n",
       " <selenium.webdriver.remote.webelement.WebElement (session=\"6d5f77ce838267b9921c1a6bb3031c79\", element=\"8ec3c33c-87d3-4eb8-98e2-951049e177f1\")>,\n",
       " <selenium.webdriver.remote.webelement.WebElement (session=\"6d5f77ce838267b9921c1a6bb3031c79\", element=\"342978e7-d89f-40df-9e34-b0ab766f8b6c\")>,\n",
       " <selenium.webdriver.remote.webelement.WebElement (session=\"6d5f77ce838267b9921c1a6bb3031c79\", element=\"e1630fee-ca4d-4877-b024-a392081c8ac1\")>,\n",
       " <selenium.webdriver.remote.webelement.WebElement (session=\"6d5f77ce838267b9921c1a6bb3031c79\", element=\"6b21475b-ab6b-4499-af78-03ad22da7630\")>,\n",
       " <selenium.webdriver.remote.webelement.WebElement (session=\"6d5f77ce838267b9921c1a6bb3031c79\", element=\"d6525118-313f-414e-9751-3be15fd098af\")>,\n",
       " <selenium.webdriver.remote.webelement.WebElement (session=\"6d5f77ce838267b9921c1a6bb3031c79\", element=\"66efde57-a396-43b1-9bb7-8fb0f037b3e8\")>,\n",
       " <selenium.webdriver.remote.webelement.WebElement (session=\"6d5f77ce838267b9921c1a6bb3031c79\", element=\"84f3cce2-cdfc-4f3c-ba19-75ce052dea1c\")>,\n",
       " <selenium.webdriver.remote.webelement.WebElement (session=\"6d5f77ce838267b9921c1a6bb3031c79\", element=\"b1a4d402-d082-423f-a3c9-018c652ff55a\")>,\n",
       " <selenium.webdriver.remote.webelement.WebElement (session=\"6d5f77ce838267b9921c1a6bb3031c79\", element=\"c7f4ee35-9246-4492-8759-29aaaf97f3e3\")>,\n",
       " <selenium.webdriver.remote.webelement.WebElement (session=\"6d5f77ce838267b9921c1a6bb3031c79\", element=\"f7338ec4-4444-4441-b149-1639ce0d52d0\")>,\n",
       " <selenium.webdriver.remote.webelement.WebElement (session=\"6d5f77ce838267b9921c1a6bb3031c79\", element=\"8e2a3c08-2195-4627-ae63-405d5393edb7\")>,\n",
       " <selenium.webdriver.remote.webelement.WebElement (session=\"6d5f77ce838267b9921c1a6bb3031c79\", element=\"0e8817ce-12b4-4821-94e5-90ac9763d7b3\")>,\n",
       " <selenium.webdriver.remote.webelement.WebElement (session=\"6d5f77ce838267b9921c1a6bb3031c79\", element=\"09456650-c592-4d55-8f35-ea5704cc2029\")>,\n",
       " <selenium.webdriver.remote.webelement.WebElement (session=\"6d5f77ce838267b9921c1a6bb3031c79\", element=\"34ae57b2-a375-4f20-bcdc-90ff56f3bdc7\")>,\n",
       " <selenium.webdriver.remote.webelement.WebElement (session=\"6d5f77ce838267b9921c1a6bb3031c79\", element=\"cadd6e81-4acd-44a9-b046-013d772ab64d\")>,\n",
       " <selenium.webdriver.remote.webelement.WebElement (session=\"6d5f77ce838267b9921c1a6bb3031c79\", element=\"0c0d7966-23c4-4086-8048-f2ea80d610ff\")>,\n",
       " <selenium.webdriver.remote.webelement.WebElement (session=\"6d5f77ce838267b9921c1a6bb3031c79\", element=\"5680ccbf-27ee-4945-bf24-01c8654756f9\")>,\n",
       " <selenium.webdriver.remote.webelement.WebElement (session=\"6d5f77ce838267b9921c1a6bb3031c79\", element=\"2002a765-8eba-4a97-ac6f-e24ca66fe690\")>,\n",
       " <selenium.webdriver.remote.webelement.WebElement (session=\"6d5f77ce838267b9921c1a6bb3031c79\", element=\"4fa9997c-71cb-4369-8865-c2ddf727fdc2\")>,\n",
       " <selenium.webdriver.remote.webelement.WebElement (session=\"6d5f77ce838267b9921c1a6bb3031c79\", element=\"0301124c-4d85-4656-9c52-a2df28ee98e0\")>,\n",
       " <selenium.webdriver.remote.webelement.WebElement (session=\"6d5f77ce838267b9921c1a6bb3031c79\", element=\"18060054-7bf6-4eda-9cbd-67364835d272\")>,\n",
       " <selenium.webdriver.remote.webelement.WebElement (session=\"6d5f77ce838267b9921c1a6bb3031c79\", element=\"60484fb3-2c27-4933-9c98-3f19b85454a1\")>,\n",
       " <selenium.webdriver.remote.webelement.WebElement (session=\"6d5f77ce838267b9921c1a6bb3031c79\", element=\"4ad13d6b-1d40-427c-ad4a-80e1706464d0\")>,\n",
       " <selenium.webdriver.remote.webelement.WebElement (session=\"6d5f77ce838267b9921c1a6bb3031c79\", element=\"ee4f848a-7b47-43f1-beed-74a9b15edab9\")>,\n",
       " <selenium.webdriver.remote.webelement.WebElement (session=\"6d5f77ce838267b9921c1a6bb3031c79\", element=\"7f6d666a-5512-4bc3-94cf-48ff4891891e\")>,\n",
       " <selenium.webdriver.remote.webelement.WebElement (session=\"6d5f77ce838267b9921c1a6bb3031c79\", element=\"5af28dec-118d-4d4d-8124-6f5e8e442249\")>,\n",
       " <selenium.webdriver.remote.webelement.WebElement (session=\"6d5f77ce838267b9921c1a6bb3031c79\", element=\"02d019da-9dbc-4c8a-8af6-f2f761c391a7\")>,\n",
       " <selenium.webdriver.remote.webelement.WebElement (session=\"6d5f77ce838267b9921c1a6bb3031c79\", element=\"ff7614f1-a745-4b14-9668-bebbbc5de785\")>,\n",
       " <selenium.webdriver.remote.webelement.WebElement (session=\"6d5f77ce838267b9921c1a6bb3031c79\", element=\"47fdabb1-4a31-47e7-a871-962e6e789d55\")>,\n",
       " <selenium.webdriver.remote.webelement.WebElement (session=\"6d5f77ce838267b9921c1a6bb3031c79\", element=\"2ffb0d15-1488-4db8-994d-3dcecfc0e509\")>,\n",
       " <selenium.webdriver.remote.webelement.WebElement (session=\"6d5f77ce838267b9921c1a6bb3031c79\", element=\"50878f23-79e6-46b3-8923-00777691fb55\")>,\n",
       " <selenium.webdriver.remote.webelement.WebElement (session=\"6d5f77ce838267b9921c1a6bb3031c79\", element=\"3bbe4469-e317-4c69-b100-484f504644f1\")>,\n",
       " <selenium.webdriver.remote.webelement.WebElement (session=\"6d5f77ce838267b9921c1a6bb3031c79\", element=\"2900f7cf-b487-417c-88e3-ceb501cb7cea\")>,\n",
       " <selenium.webdriver.remote.webelement.WebElement (session=\"6d5f77ce838267b9921c1a6bb3031c79\", element=\"2ed0f474-6a95-4605-937d-2bd2f90e82db\")>,\n",
       " <selenium.webdriver.remote.webelement.WebElement (session=\"6d5f77ce838267b9921c1a6bb3031c79\", element=\"99208f95-c5cd-41df-b546-169ec30cac97\")>,\n",
       " <selenium.webdriver.remote.webelement.WebElement (session=\"6d5f77ce838267b9921c1a6bb3031c79\", element=\"4f9f5a24-5dc1-4813-858c-d091b98b9d7d\")>,\n",
       " <selenium.webdriver.remote.webelement.WebElement (session=\"6d5f77ce838267b9921c1a6bb3031c79\", element=\"8b03ed05-c6f0-49e6-bf4f-0aed7fe568d5\")>,\n",
       " <selenium.webdriver.remote.webelement.WebElement (session=\"6d5f77ce838267b9921c1a6bb3031c79\", element=\"3523ee28-5437-4c50-8e94-fbd8c2b9b9df\")>,\n",
       " <selenium.webdriver.remote.webelement.WebElement (session=\"6d5f77ce838267b9921c1a6bb3031c79\", element=\"6dbd61ac-e0c1-4647-9757-f503c9b34419\")>,\n",
       " <selenium.webdriver.remote.webelement.WebElement (session=\"6d5f77ce838267b9921c1a6bb3031c79\", element=\"43dd1d55-aaf7-4105-823b-8204f2d587f9\")>,\n",
       " <selenium.webdriver.remote.webelement.WebElement (session=\"6d5f77ce838267b9921c1a6bb3031c79\", element=\"6b201462-901c-4529-bb16-7ecdf70302cb\")>,\n",
       " <selenium.webdriver.remote.webelement.WebElement (session=\"6d5f77ce838267b9921c1a6bb3031c79\", element=\"9fc03b77-9d5e-4270-89af-489c00938400\")>,\n",
       " <selenium.webdriver.remote.webelement.WebElement (session=\"6d5f77ce838267b9921c1a6bb3031c79\", element=\"6d845fa6-eb2d-4a34-a040-4942619db82e\")>,\n",
       " <selenium.webdriver.remote.webelement.WebElement (session=\"6d5f77ce838267b9921c1a6bb3031c79\", element=\"a473ec0c-d00a-4dc7-83f0-7a257885187a\")>,\n",
       " <selenium.webdriver.remote.webelement.WebElement (session=\"6d5f77ce838267b9921c1a6bb3031c79\", element=\"f225046e-b0cf-43d0-b526-acc08f74a664\")>,\n",
       " <selenium.webdriver.remote.webelement.WebElement (session=\"6d5f77ce838267b9921c1a6bb3031c79\", element=\"965d2935-1ac9-482e-a544-1502e0227f28\")>,\n",
       " <selenium.webdriver.remote.webelement.WebElement (session=\"6d5f77ce838267b9921c1a6bb3031c79\", element=\"4807988a-57be-4e3f-a20a-812c95255745\")>,\n",
       " <selenium.webdriver.remote.webelement.WebElement (session=\"6d5f77ce838267b9921c1a6bb3031c79\", element=\"e84d86b5-a31b-4dab-849f-c28d534e1772\")>,\n",
       " <selenium.webdriver.remote.webelement.WebElement (session=\"6d5f77ce838267b9921c1a6bb3031c79\", element=\"b8b34ebc-3e06-4f1b-96c4-59acdd6e99c4\")>,\n",
       " <selenium.webdriver.remote.webelement.WebElement (session=\"6d5f77ce838267b9921c1a6bb3031c79\", element=\"620a95f2-a3ba-4872-977e-586671f4fe30\")>,\n",
       " <selenium.webdriver.remote.webelement.WebElement (session=\"6d5f77ce838267b9921c1a6bb3031c79\", element=\"70be153a-28cf-4523-a93b-f225bf01f77e\")>,\n",
       " <selenium.webdriver.remote.webelement.WebElement (session=\"6d5f77ce838267b9921c1a6bb3031c79\", element=\"65e4b038-9a98-468a-9be2-e60f07548473\")>,\n",
       " <selenium.webdriver.remote.webelement.WebElement (session=\"6d5f77ce838267b9921c1a6bb3031c79\", element=\"4489850a-f2be-4fdc-9114-e52bd7225090\")>,\n",
       " <selenium.webdriver.remote.webelement.WebElement (session=\"6d5f77ce838267b9921c1a6bb3031c79\", element=\"98488ca0-2020-4142-8326-0c1eda25e966\")>,\n",
       " <selenium.webdriver.remote.webelement.WebElement (session=\"6d5f77ce838267b9921c1a6bb3031c79\", element=\"a8dc516c-610e-4c71-bee0-f9f1d9ec5ac4\")>,\n",
       " <selenium.webdriver.remote.webelement.WebElement (session=\"6d5f77ce838267b9921c1a6bb3031c79\", element=\"54f49a70-6960-4adf-bbd9-d2bb632050e8\")>,\n",
       " <selenium.webdriver.remote.webelement.WebElement (session=\"6d5f77ce838267b9921c1a6bb3031c79\", element=\"c6ed1815-419c-4669-a85b-4aa1a5436226\")>,\n",
       " <selenium.webdriver.remote.webelement.WebElement (session=\"6d5f77ce838267b9921c1a6bb3031c79\", element=\"5f7a324e-e041-422f-a0e6-5fb68df56632\")>,\n",
       " <selenium.webdriver.remote.webelement.WebElement (session=\"6d5f77ce838267b9921c1a6bb3031c79\", element=\"322a9023-140c-4fd2-8b97-2b1b976d91de\")>,\n",
       " <selenium.webdriver.remote.webelement.WebElement (session=\"6d5f77ce838267b9921c1a6bb3031c79\", element=\"667f344b-8674-481a-a80f-45407fc22217\")>,\n",
       " <selenium.webdriver.remote.webelement.WebElement (session=\"6d5f77ce838267b9921c1a6bb3031c79\", element=\"0c5a04c9-04bd-4491-9aba-bf19d5b25eb1\")>,\n",
       " <selenium.webdriver.remote.webelement.WebElement (session=\"6d5f77ce838267b9921c1a6bb3031c79\", element=\"fcbcce86-00a8-4390-ba85-45cb970dab70\")>,\n",
       " <selenium.webdriver.remote.webelement.WebElement (session=\"6d5f77ce838267b9921c1a6bb3031c79\", element=\"490ae756-4a2a-48c9-bbc7-6c08701f0caa\")>,\n",
       " <selenium.webdriver.remote.webelement.WebElement (session=\"6d5f77ce838267b9921c1a6bb3031c79\", element=\"49a0510d-057b-469f-8650-110e7e4fc5e2\")>,\n",
       " <selenium.webdriver.remote.webelement.WebElement (session=\"6d5f77ce838267b9921c1a6bb3031c79\", element=\"512d2621-f01f-47ef-984e-042a2a9d2a4b\")>,\n",
       " <selenium.webdriver.remote.webelement.WebElement (session=\"6d5f77ce838267b9921c1a6bb3031c79\", element=\"db81431b-c8f5-4fba-9105-9085aa123d0c\")>,\n",
       " <selenium.webdriver.remote.webelement.WebElement (session=\"6d5f77ce838267b9921c1a6bb3031c79\", element=\"f03722c7-df18-46b9-a788-e3553b5d32f4\")>,\n",
       " <selenium.webdriver.remote.webelement.WebElement (session=\"6d5f77ce838267b9921c1a6bb3031c79\", element=\"3596bcf7-b533-4801-a228-3d2b9b550280\")>,\n",
       " <selenium.webdriver.remote.webelement.WebElement (session=\"6d5f77ce838267b9921c1a6bb3031c79\", element=\"8f3fb950-3b63-494f-94c3-55d13f2bddb3\")>,\n",
       " <selenium.webdriver.remote.webelement.WebElement (session=\"6d5f77ce838267b9921c1a6bb3031c79\", element=\"71c9dc70-ec5d-4423-9b26-939ed38c907f\")>,\n",
       " <selenium.webdriver.remote.webelement.WebElement (session=\"6d5f77ce838267b9921c1a6bb3031c79\", element=\"c0734653-ab8b-4a57-98d9-e263dde4eb6e\")>,\n",
       " <selenium.webdriver.remote.webelement.WebElement (session=\"6d5f77ce838267b9921c1a6bb3031c79\", element=\"ddaf8ebc-107b-44a1-9fb7-7ba55ddbf07a\")>,\n",
       " <selenium.webdriver.remote.webelement.WebElement (session=\"6d5f77ce838267b9921c1a6bb3031c79\", element=\"4dc83a4d-1b2e-4162-b7e6-0a4cd86a8c96\")>,\n",
       " <selenium.webdriver.remote.webelement.WebElement (session=\"6d5f77ce838267b9921c1a6bb3031c79\", element=\"7d91787c-ecae-4f43-a375-3ba4e8a6e754\")>,\n",
       " <selenium.webdriver.remote.webelement.WebElement (session=\"6d5f77ce838267b9921c1a6bb3031c79\", element=\"485680f2-2e19-4e4e-abe5-059a209fdec4\")>,\n",
       " <selenium.webdriver.remote.webelement.WebElement (session=\"6d5f77ce838267b9921c1a6bb3031c79\", element=\"9452a267-4a4e-4854-a61d-960aee01c0f5\")>,\n",
       " <selenium.webdriver.remote.webelement.WebElement (session=\"6d5f77ce838267b9921c1a6bb3031c79\", element=\"2f2a6cec-80cb-49fa-9a72-37edcff1e1ef\")>,\n",
       " <selenium.webdriver.remote.webelement.WebElement (session=\"6d5f77ce838267b9921c1a6bb3031c79\", element=\"184e1bd9-802d-4286-9731-b54e52fd736f\")>,\n",
       " <selenium.webdriver.remote.webelement.WebElement (session=\"6d5f77ce838267b9921c1a6bb3031c79\", element=\"3d25fb1a-9a46-408a-b367-2b69f2b08b99\")>,\n",
       " <selenium.webdriver.remote.webelement.WebElement (session=\"6d5f77ce838267b9921c1a6bb3031c79\", element=\"ee56712d-aa75-4871-9f25-562d9f981db1\")>,\n",
       " <selenium.webdriver.remote.webelement.WebElement (session=\"6d5f77ce838267b9921c1a6bb3031c79\", element=\"e97b0764-6108-4a02-9ad0-daa2ff49216b\")>,\n",
       " <selenium.webdriver.remote.webelement.WebElement (session=\"6d5f77ce838267b9921c1a6bb3031c79\", element=\"07946599-7569-46ae-9454-adbfc1d67305\")>,\n",
       " <selenium.webdriver.remote.webelement.WebElement (session=\"6d5f77ce838267b9921c1a6bb3031c79\", element=\"f9a41a01-12cd-49c4-bd01-c4b0b5ea6d0c\")>,\n",
       " <selenium.webdriver.remote.webelement.WebElement (session=\"6d5f77ce838267b9921c1a6bb3031c79\", element=\"40c1963c-e970-4982-bdef-fd806725c5e4\")>,\n",
       " <selenium.webdriver.remote.webelement.WebElement (session=\"6d5f77ce838267b9921c1a6bb3031c79\", element=\"798f7c88-5e7b-4751-9552-21cc19eb430d\")>,\n",
       " <selenium.webdriver.remote.webelement.WebElement (session=\"6d5f77ce838267b9921c1a6bb3031c79\", element=\"be24f6dc-c7b2-4c6f-a42a-a38a8013f8a1\")>,\n",
       " <selenium.webdriver.remote.webelement.WebElement (session=\"6d5f77ce838267b9921c1a6bb3031c79\", element=\"41c08f2e-75e3-4895-a947-04bf77f38dc2\")>,\n",
       " <selenium.webdriver.remote.webelement.WebElement (session=\"6d5f77ce838267b9921c1a6bb3031c79\", element=\"f23d02d6-872e-4943-b463-26a913fbe333\")>,\n",
       " <selenium.webdriver.remote.webelement.WebElement (session=\"6d5f77ce838267b9921c1a6bb3031c79\", element=\"183326b2-ad1f-49c0-956c-cd46ac2f6a60\")>,\n",
       " <selenium.webdriver.remote.webelement.WebElement (session=\"6d5f77ce838267b9921c1a6bb3031c79\", element=\"8391a901-1eac-4464-9827-e940ebc17c6b\")>,\n",
       " <selenium.webdriver.remote.webelement.WebElement (session=\"6d5f77ce838267b9921c1a6bb3031c79\", element=\"6226fffc-8698-4fed-8851-3387b3ab360e\")>,\n",
       " <selenium.webdriver.remote.webelement.WebElement (session=\"6d5f77ce838267b9921c1a6bb3031c79\", element=\"f68c9f66-f925-43d1-9349-47d1101041bb\")>,\n",
       " <selenium.webdriver.remote.webelement.WebElement (session=\"6d5f77ce838267b9921c1a6bb3031c79\", element=\"f7182ad2-0a62-4ddf-aa6f-db5d2118e9a0\")>,\n",
       " <selenium.webdriver.remote.webelement.WebElement (session=\"6d5f77ce838267b9921c1a6bb3031c79\", element=\"896a2ded-dc3e-4cda-84c3-eef5f6d5d3c7\")>,\n",
       " <selenium.webdriver.remote.webelement.WebElement (session=\"6d5f77ce838267b9921c1a6bb3031c79\", element=\"0ca69a0c-0c49-479a-af1d-c329c43e35cb\")>,\n",
       " <selenium.webdriver.remote.webelement.WebElement (session=\"6d5f77ce838267b9921c1a6bb3031c79\", element=\"6ef92c2f-60bf-47c1-aa01-444f16decab9\")>,\n",
       " <selenium.webdriver.remote.webelement.WebElement (session=\"6d5f77ce838267b9921c1a6bb3031c79\", element=\"75ab7c46-dab2-44bc-959e-85b153b2046c\")>,\n",
       " <selenium.webdriver.remote.webelement.WebElement (session=\"6d5f77ce838267b9921c1a6bb3031c79\", element=\"c4406bf4-bf0b-4528-a72c-efe2c3954a08\")>,\n",
       " <selenium.webdriver.remote.webelement.WebElement (session=\"6d5f77ce838267b9921c1a6bb3031c79\", element=\"fabe700a-0777-4dff-9620-915bb3df00e4\")>,\n",
       " <selenium.webdriver.remote.webelement.WebElement (session=\"6d5f77ce838267b9921c1a6bb3031c79\", element=\"acefa4c4-fb1f-4b3f-a73d-21fd4b52df55\")>,\n",
       " <selenium.webdriver.remote.webelement.WebElement (session=\"6d5f77ce838267b9921c1a6bb3031c79\", element=\"d124cf16-9ebd-40c6-ac40-70b8e902e3b9\")>,\n",
       " <selenium.webdriver.remote.webelement.WebElement (session=\"6d5f77ce838267b9921c1a6bb3031c79\", element=\"11be741b-39d7-40dd-9e54-6f0213f0d104\")>,\n",
       " <selenium.webdriver.remote.webelement.WebElement (session=\"6d5f77ce838267b9921c1a6bb3031c79\", element=\"57ac8d56-a3e2-446a-90b6-ecf8cf65dadc\")>,\n",
       " <selenium.webdriver.remote.webelement.WebElement (session=\"6d5f77ce838267b9921c1a6bb3031c79\", element=\"b13a4430-6837-4370-a645-147724677ce5\")>,\n",
       " <selenium.webdriver.remote.webelement.WebElement (session=\"6d5f77ce838267b9921c1a6bb3031c79\", element=\"d54671b2-475a-4035-9a26-b81318a13c04\")>,\n",
       " <selenium.webdriver.remote.webelement.WebElement (session=\"6d5f77ce838267b9921c1a6bb3031c79\", element=\"e888b70f-09a5-468a-b5f5-6077fdde1b87\")>,\n",
       " <selenium.webdriver.remote.webelement.WebElement (session=\"6d5f77ce838267b9921c1a6bb3031c79\", element=\"7dea91e9-55fe-40cb-a05b-0f20ca9c50aa\")>,\n",
       " <selenium.webdriver.remote.webelement.WebElement (session=\"6d5f77ce838267b9921c1a6bb3031c79\", element=\"69a89afd-1c9d-4fb5-946e-d37acf7d03f0\")>,\n",
       " <selenium.webdriver.remote.webelement.WebElement (session=\"6d5f77ce838267b9921c1a6bb3031c79\", element=\"67c16cf9-c3c9-4669-8696-5d9c00ae6b54\")>,\n",
       " <selenium.webdriver.remote.webelement.WebElement (session=\"6d5f77ce838267b9921c1a6bb3031c79\", element=\"884f5cab-9dc3-4f2a-8254-288408f13074\")>,\n",
       " <selenium.webdriver.remote.webelement.WebElement (session=\"6d5f77ce838267b9921c1a6bb3031c79\", element=\"39a99a3e-da14-49f7-bc94-623be4761ce7\")>,\n",
       " <selenium.webdriver.remote.webelement.WebElement (session=\"6d5f77ce838267b9921c1a6bb3031c79\", element=\"72f41052-3cea-4214-b82b-c25a09bff0e6\")>,\n",
       " <selenium.webdriver.remote.webelement.WebElement (session=\"6d5f77ce838267b9921c1a6bb3031c79\", element=\"47bb8f4c-3eb8-46d4-9e73-ca78cca1b1ee\")>,\n",
       " <selenium.webdriver.remote.webelement.WebElement (session=\"6d5f77ce838267b9921c1a6bb3031c79\", element=\"eebe846f-0aa4-4101-b00f-502e29691084\")>,\n",
       " <selenium.webdriver.remote.webelement.WebElement (session=\"6d5f77ce838267b9921c1a6bb3031c79\", element=\"e947d710-2e99-4505-92fc-b6627b1a2861\")>,\n",
       " <selenium.webdriver.remote.webelement.WebElement (session=\"6d5f77ce838267b9921c1a6bb3031c79\", element=\"696f7cc6-a677-4bf6-b7c8-d062f9c44224\")>,\n",
       " <selenium.webdriver.remote.webelement.WebElement (session=\"6d5f77ce838267b9921c1a6bb3031c79\", element=\"c410f26f-0693-4e84-b0dc-d10496cde8f1\")>,\n",
       " <selenium.webdriver.remote.webelement.WebElement (session=\"6d5f77ce838267b9921c1a6bb3031c79\", element=\"8af6d091-4541-4b38-8a7f-6ead30e23021\")>,\n",
       " <selenium.webdriver.remote.webelement.WebElement (session=\"6d5f77ce838267b9921c1a6bb3031c79\", element=\"3b5e3b71-e147-4842-b8d5-8933e1a5072c\")>,\n",
       " <selenium.webdriver.remote.webelement.WebElement (session=\"6d5f77ce838267b9921c1a6bb3031c79\", element=\"49cd3314-b4bf-49ad-a421-990c5b26adaa\")>,\n",
       " <selenium.webdriver.remote.webelement.WebElement (session=\"6d5f77ce838267b9921c1a6bb3031c79\", element=\"a09176e3-8765-42e9-98a4-b130f64ed58a\")>,\n",
       " <selenium.webdriver.remote.webelement.WebElement (session=\"6d5f77ce838267b9921c1a6bb3031c79\", element=\"c2905932-c304-4780-bd29-bd61d38d695e\")>,\n",
       " <selenium.webdriver.remote.webelement.WebElement (session=\"6d5f77ce838267b9921c1a6bb3031c79\", element=\"5785b70c-d3b4-484f-8881-2c344a17d854\")>,\n",
       " <selenium.webdriver.remote.webelement.WebElement (session=\"6d5f77ce838267b9921c1a6bb3031c79\", element=\"572b3095-e863-4102-94a8-3281046f839a\")>,\n",
       " <selenium.webdriver.remote.webelement.WebElement (session=\"6d5f77ce838267b9921c1a6bb3031c79\", element=\"871b6d75-a57a-4e5e-b170-26cb595d28d6\")>,\n",
       " <selenium.webdriver.remote.webelement.WebElement (session=\"6d5f77ce838267b9921c1a6bb3031c79\", element=\"48985b38-ba64-41b5-b8dd-7979a9bb06d7\")>,\n",
       " <selenium.webdriver.remote.webelement.WebElement (session=\"6d5f77ce838267b9921c1a6bb3031c79\", element=\"057f1612-d9f9-4f7d-9fb6-db85c63e9990\")>,\n",
       " <selenium.webdriver.remote.webelement.WebElement (session=\"6d5f77ce838267b9921c1a6bb3031c79\", element=\"f8647b80-6f66-44a8-8944-afa79eeddf64\")>,\n",
       " <selenium.webdriver.remote.webelement.WebElement (session=\"6d5f77ce838267b9921c1a6bb3031c79\", element=\"6a57f4f0-371a-4b9f-a2f7-0928ba4a4c08\")>,\n",
       " <selenium.webdriver.remote.webelement.WebElement (session=\"6d5f77ce838267b9921c1a6bb3031c79\", element=\"fc9e4ba5-6b0f-4511-9582-e660a0c18a6b\")>,\n",
       " <selenium.webdriver.remote.webelement.WebElement (session=\"6d5f77ce838267b9921c1a6bb3031c79\", element=\"492f9dce-d0ba-4130-8301-36c6fe9afe8b\")>,\n",
       " <selenium.webdriver.remote.webelement.WebElement (session=\"6d5f77ce838267b9921c1a6bb3031c79\", element=\"b4d6ac0e-5709-47cc-bdbd-edaffa259e43\")>,\n",
       " <selenium.webdriver.remote.webelement.WebElement (session=\"6d5f77ce838267b9921c1a6bb3031c79\", element=\"0e29c1c5-66f5-46b4-aff3-ff51db631c4a\")>,\n",
       " <selenium.webdriver.remote.webelement.WebElement (session=\"6d5f77ce838267b9921c1a6bb3031c79\", element=\"212de8a0-390c-4e57-a575-7d6b5900e8c4\")>,\n",
       " <selenium.webdriver.remote.webelement.WebElement (session=\"6d5f77ce838267b9921c1a6bb3031c79\", element=\"c114d53b-dd1d-48eb-a055-c5f98463691c\")>,\n",
       " <selenium.webdriver.remote.webelement.WebElement (session=\"6d5f77ce838267b9921c1a6bb3031c79\", element=\"1dffc340-864d-4547-b1fa-dc3e7bc76686\")>,\n",
       " <selenium.webdriver.remote.webelement.WebElement (session=\"6d5f77ce838267b9921c1a6bb3031c79\", element=\"87ae0309-42eb-442b-9675-7b9a760d8568\")>,\n",
       " <selenium.webdriver.remote.webelement.WebElement (session=\"6d5f77ce838267b9921c1a6bb3031c79\", element=\"a726e683-40e4-47c8-95b2-10296d01e272\")>,\n",
       " <selenium.webdriver.remote.webelement.WebElement (session=\"6d5f77ce838267b9921c1a6bb3031c79\", element=\"61d2021d-e291-4482-a5c6-cac2e02a5665\")>,\n",
       " <selenium.webdriver.remote.webelement.WebElement (session=\"6d5f77ce838267b9921c1a6bb3031c79\", element=\"45ae8f3b-941a-4c30-807b-83e288da5443\")>,\n",
       " <selenium.webdriver.remote.webelement.WebElement (session=\"6d5f77ce838267b9921c1a6bb3031c79\", element=\"c960ea59-35db-4c92-8f33-81aad1451b74\")>,\n",
       " <selenium.webdriver.remote.webelement.WebElement (session=\"6d5f77ce838267b9921c1a6bb3031c79\", element=\"7eef06ff-58cc-4738-986f-fb3d81ce359f\")>,\n",
       " <selenium.webdriver.remote.webelement.WebElement (session=\"6d5f77ce838267b9921c1a6bb3031c79\", element=\"ac78998d-4501-404d-8e6e-4b60e89b50d6\")>,\n",
       " <selenium.webdriver.remote.webelement.WebElement (session=\"6d5f77ce838267b9921c1a6bb3031c79\", element=\"9290b559-3dd1-4176-a79f-f5f9d0b14921\")>,\n",
       " <selenium.webdriver.remote.webelement.WebElement (session=\"6d5f77ce838267b9921c1a6bb3031c79\", element=\"c83156d7-46a2-4f27-87c6-8d5ce29fa038\")>,\n",
       " <selenium.webdriver.remote.webelement.WebElement (session=\"6d5f77ce838267b9921c1a6bb3031c79\", element=\"93eec354-af4d-4b76-b25b-04b568d65aec\")>,\n",
       " <selenium.webdriver.remote.webelement.WebElement (session=\"6d5f77ce838267b9921c1a6bb3031c79\", element=\"d8210252-dacb-43a8-86ea-0fb052ed0475\")>,\n",
       " <selenium.webdriver.remote.webelement.WebElement (session=\"6d5f77ce838267b9921c1a6bb3031c79\", element=\"ed8f64ee-6f98-4bad-9b6c-82155a6b81cf\")>,\n",
       " <selenium.webdriver.remote.webelement.WebElement (session=\"6d5f77ce838267b9921c1a6bb3031c79\", element=\"5aa723e1-6a81-4bb3-99f8-ecbca32f4893\")>,\n",
       " <selenium.webdriver.remote.webelement.WebElement (session=\"6d5f77ce838267b9921c1a6bb3031c79\", element=\"bf76f857-e527-4d8d-93f6-12fdcae4cfef\")>,\n",
       " <selenium.webdriver.remote.webelement.WebElement (session=\"6d5f77ce838267b9921c1a6bb3031c79\", element=\"ca01e0f6-8728-482f-b3c7-e9b02b425537\")>,\n",
       " <selenium.webdriver.remote.webelement.WebElement (session=\"6d5f77ce838267b9921c1a6bb3031c79\", element=\"80c6e844-be11-4f0c-a117-130920b59646\")>,\n",
       " <selenium.webdriver.remote.webelement.WebElement (session=\"6d5f77ce838267b9921c1a6bb3031c79\", element=\"a1d7e1f0-f789-453a-bb91-9f63541c0e18\")>,\n",
       " <selenium.webdriver.remote.webelement.WebElement (session=\"6d5f77ce838267b9921c1a6bb3031c79\", element=\"436d4093-5187-44e4-80c2-f8f226ebc911\")>,\n",
       " <selenium.webdriver.remote.webelement.WebElement (session=\"6d5f77ce838267b9921c1a6bb3031c79\", element=\"082f802e-2604-4c7e-bc08-13b1e42f6c65\")>,\n",
       " <selenium.webdriver.remote.webelement.WebElement (session=\"6d5f77ce838267b9921c1a6bb3031c79\", element=\"fb10997a-6f70-4b7f-bb1b-91cef64517fd\")>,\n",
       " <selenium.webdriver.remote.webelement.WebElement (session=\"6d5f77ce838267b9921c1a6bb3031c79\", element=\"083af155-e9e2-4980-878a-80e3b881bd42\")>,\n",
       " <selenium.webdriver.remote.webelement.WebElement (session=\"6d5f77ce838267b9921c1a6bb3031c79\", element=\"08ac9314-eb57-4675-aedb-13669366be72\")>,\n",
       " <selenium.webdriver.remote.webelement.WebElement (session=\"6d5f77ce838267b9921c1a6bb3031c79\", element=\"0416b826-7a06-4cad-88fd-f8ca74dc7fb5\")>,\n",
       " <selenium.webdriver.remote.webelement.WebElement (session=\"6d5f77ce838267b9921c1a6bb3031c79\", element=\"e4f9f2fb-debe-4ff3-b9a0-c3ddf1069e98\")>,\n",
       " <selenium.webdriver.remote.webelement.WebElement (session=\"6d5f77ce838267b9921c1a6bb3031c79\", element=\"9dfd5ca3-f910-4a94-9d61-eaf70c870fee\")>,\n",
       " <selenium.webdriver.remote.webelement.WebElement (session=\"6d5f77ce838267b9921c1a6bb3031c79\", element=\"a292e6f6-8b51-471b-804d-cfe0c229b460\")>,\n",
       " <selenium.webdriver.remote.webelement.WebElement (session=\"6d5f77ce838267b9921c1a6bb3031c79\", element=\"049c5fd8-9b82-492a-a896-53ae99803eca\")>,\n",
       " <selenium.webdriver.remote.webelement.WebElement (session=\"6d5f77ce838267b9921c1a6bb3031c79\", element=\"36cb1d6a-e7bb-410d-9c42-d3fe1fe26c7d\")>,\n",
       " <selenium.webdriver.remote.webelement.WebElement (session=\"6d5f77ce838267b9921c1a6bb3031c79\", element=\"0b3c751c-47e5-4eab-a1c4-5e89a971e6b4\")>,\n",
       " <selenium.webdriver.remote.webelement.WebElement (session=\"6d5f77ce838267b9921c1a6bb3031c79\", element=\"ceb41fe5-d54e-421a-a10f-21dd2af2b2a1\")>,\n",
       " <selenium.webdriver.remote.webelement.WebElement (session=\"6d5f77ce838267b9921c1a6bb3031c79\", element=\"84064458-bd06-4890-9222-3ab63640b52f\")>,\n",
       " <selenium.webdriver.remote.webelement.WebElement (session=\"6d5f77ce838267b9921c1a6bb3031c79\", element=\"319ec301-87d1-40d2-bab2-6889236afc6f\")>,\n",
       " <selenium.webdriver.remote.webelement.WebElement (session=\"6d5f77ce838267b9921c1a6bb3031c79\", element=\"9feb94c0-4484-479f-8b30-ced778092851\")>,\n",
       " <selenium.webdriver.remote.webelement.WebElement (session=\"6d5f77ce838267b9921c1a6bb3031c79\", element=\"04938ddd-be29-4bf4-96c6-c842c834a633\")>,\n",
       " <selenium.webdriver.remote.webelement.WebElement (session=\"6d5f77ce838267b9921c1a6bb3031c79\", element=\"4d5de210-9193-4516-ad80-ddf286acbb73\")>,\n",
       " <selenium.webdriver.remote.webelement.WebElement (session=\"6d5f77ce838267b9921c1a6bb3031c79\", element=\"cbe4b1f8-03ac-495e-85da-7ccc721355ec\")>,\n",
       " <selenium.webdriver.remote.webelement.WebElement (session=\"6d5f77ce838267b9921c1a6bb3031c79\", element=\"0729ba67-a3fe-470a-8b66-c7f0a0b6ebca\")>,\n",
       " <selenium.webdriver.remote.webelement.WebElement (session=\"6d5f77ce838267b9921c1a6bb3031c79\", element=\"7045bb41-4c18-48fe-8f58-8a00fa6f2c52\")>,\n",
       " <selenium.webdriver.remote.webelement.WebElement (session=\"6d5f77ce838267b9921c1a6bb3031c79\", element=\"8fce610a-5ced-4b55-b85a-f3634bd4cdc8\")>,\n",
       " <selenium.webdriver.remote.webelement.WebElement (session=\"6d5f77ce838267b9921c1a6bb3031c79\", element=\"3821eff0-d85f-44b5-8d2c-0881d7cb38b3\")>,\n",
       " <selenium.webdriver.remote.webelement.WebElement (session=\"6d5f77ce838267b9921c1a6bb3031c79\", element=\"5317449f-2ddf-4e10-84c3-18850cbe6ee2\")>,\n",
       " <selenium.webdriver.remote.webelement.WebElement (session=\"6d5f77ce838267b9921c1a6bb3031c79\", element=\"f84233ef-01e0-4959-9653-2ae88554343d\")>,\n",
       " <selenium.webdriver.remote.webelement.WebElement (session=\"6d5f77ce838267b9921c1a6bb3031c79\", element=\"d1f1baa2-a99c-4080-9aa9-3bebdbc365f4\")>,\n",
       " <selenium.webdriver.remote.webelement.WebElement (session=\"6d5f77ce838267b9921c1a6bb3031c79\", element=\"26f98dc4-fd7f-449c-a987-98898d0d6799\")>,\n",
       " <selenium.webdriver.remote.webelement.WebElement (session=\"6d5f77ce838267b9921c1a6bb3031c79\", element=\"93aae40c-5631-4fad-96e5-d1819923e145\")>,\n",
       " <selenium.webdriver.remote.webelement.WebElement (session=\"6d5f77ce838267b9921c1a6bb3031c79\", element=\"d00a215c-fac1-42e2-9987-fab7065e6ce4\")>,\n",
       " <selenium.webdriver.remote.webelement.WebElement (session=\"6d5f77ce838267b9921c1a6bb3031c79\", element=\"e07b0723-5ec6-4e01-ace5-2df1f21d6e0f\")>,\n",
       " <selenium.webdriver.remote.webelement.WebElement (session=\"6d5f77ce838267b9921c1a6bb3031c79\", element=\"ed4459e6-d3d7-49c7-8004-93b5150cce23\")>,\n",
       " <selenium.webdriver.remote.webelement.WebElement (session=\"6d5f77ce838267b9921c1a6bb3031c79\", element=\"78ac15ef-bd9c-4d25-b188-6464e55140c9\")>,\n",
       " <selenium.webdriver.remote.webelement.WebElement (session=\"6d5f77ce838267b9921c1a6bb3031c79\", element=\"609ab770-a733-4489-9161-0417c129606a\")>,\n",
       " <selenium.webdriver.remote.webelement.WebElement (session=\"6d5f77ce838267b9921c1a6bb3031c79\", element=\"38ef386a-169d-4400-977f-08c3c040b905\")>,\n",
       " <selenium.webdriver.remote.webelement.WebElement (session=\"6d5f77ce838267b9921c1a6bb3031c79\", element=\"d8c732b9-a092-443e-ad8d-5bd4f49b71dd\")>,\n",
       " <selenium.webdriver.remote.webelement.WebElement (session=\"6d5f77ce838267b9921c1a6bb3031c79\", element=\"21239467-f604-4214-abbf-36983f7e2ca2\")>,\n",
       " <selenium.webdriver.remote.webelement.WebElement (session=\"6d5f77ce838267b9921c1a6bb3031c79\", element=\"890af7e5-00a2-4ac7-a2fa-4c8a1b94e18b\")>,\n",
       " <selenium.webdriver.remote.webelement.WebElement (session=\"6d5f77ce838267b9921c1a6bb3031c79\", element=\"56b9cb22-7429-4a0a-aaa7-8c4e8f93590d\")>,\n",
       " <selenium.webdriver.remote.webelement.WebElement (session=\"6d5f77ce838267b9921c1a6bb3031c79\", element=\"4f48223e-f965-448d-b045-2e9836b7267e\")>,\n",
       " <selenium.webdriver.remote.webelement.WebElement (session=\"6d5f77ce838267b9921c1a6bb3031c79\", element=\"0efd3bcd-0e94-459e-8abd-be0b14b4e1bf\")>,\n",
       " <selenium.webdriver.remote.webelement.WebElement (session=\"6d5f77ce838267b9921c1a6bb3031c79\", element=\"50fcce8d-0de8-4a98-a20a-8be345c70d51\")>,\n",
       " <selenium.webdriver.remote.webelement.WebElement (session=\"6d5f77ce838267b9921c1a6bb3031c79\", element=\"a5fc2bab-2eba-442b-9323-9a57c707d8f6\")>,\n",
       " <selenium.webdriver.remote.webelement.WebElement (session=\"6d5f77ce838267b9921c1a6bb3031c79\", element=\"f8590b08-c94c-455e-8618-0d8e0231347a\")>,\n",
       " <selenium.webdriver.remote.webelement.WebElement (session=\"6d5f77ce838267b9921c1a6bb3031c79\", element=\"2411cd84-eb4a-4a7f-97b7-78046227f500\")>,\n",
       " <selenium.webdriver.remote.webelement.WebElement (session=\"6d5f77ce838267b9921c1a6bb3031c79\", element=\"6a84a290-1928-4c6c-aa68-999641123a8f\")>,\n",
       " <selenium.webdriver.remote.webelement.WebElement (session=\"6d5f77ce838267b9921c1a6bb3031c79\", element=\"a168974c-23c8-4141-9260-a87419d94e90\")>,\n",
       " <selenium.webdriver.remote.webelement.WebElement (session=\"6d5f77ce838267b9921c1a6bb3031c79\", element=\"5fb33128-5c7d-4f09-a1c8-65e21dbf50a8\")>,\n",
       " <selenium.webdriver.remote.webelement.WebElement (session=\"6d5f77ce838267b9921c1a6bb3031c79\", element=\"0049463c-abd3-46de-a7da-668ed4be118d\")>,\n",
       " <selenium.webdriver.remote.webelement.WebElement (session=\"6d5f77ce838267b9921c1a6bb3031c79\", element=\"37b04a74-9e9d-4b74-83f1-8ef3b199404a\")>,\n",
       " <selenium.webdriver.remote.webelement.WebElement (session=\"6d5f77ce838267b9921c1a6bb3031c79\", element=\"c784298a-5863-49d8-af38-d533be40a100\")>,\n",
       " <selenium.webdriver.remote.webelement.WebElement (session=\"6d5f77ce838267b9921c1a6bb3031c79\", element=\"37e0eb5f-e43c-4091-9f3c-ac5d830de243\")>,\n",
       " <selenium.webdriver.remote.webelement.WebElement (session=\"6d5f77ce838267b9921c1a6bb3031c79\", element=\"287c7c58-2eaa-4a9b-8659-89a6731c6f57\")>,\n",
       " <selenium.webdriver.remote.webelement.WebElement (session=\"6d5f77ce838267b9921c1a6bb3031c79\", element=\"a3be68c8-afba-48d0-b6d2-861a8a990a77\")>,\n",
       " <selenium.webdriver.remote.webelement.WebElement (session=\"6d5f77ce838267b9921c1a6bb3031c79\", element=\"9fdd8a02-d021-4fa2-8fed-f9672844eeb4\")>,\n",
       " <selenium.webdriver.remote.webelement.WebElement (session=\"6d5f77ce838267b9921c1a6bb3031c79\", element=\"a66458cd-7590-4d72-abf8-d890df9286f3\")>,\n",
       " <selenium.webdriver.remote.webelement.WebElement (session=\"6d5f77ce838267b9921c1a6bb3031c79\", element=\"ccaff2cf-9a94-46ba-8290-6f724c60a179\")>,\n",
       " <selenium.webdriver.remote.webelement.WebElement (session=\"6d5f77ce838267b9921c1a6bb3031c79\", element=\"0711a4b6-5c7c-4250-94de-dcd3b48c928e\")>,\n",
       " <selenium.webdriver.remote.webelement.WebElement (session=\"6d5f77ce838267b9921c1a6bb3031c79\", element=\"0a185bc4-9e4a-4d87-bb63-103a23345d9d\")>,\n",
       " <selenium.webdriver.remote.webelement.WebElement (session=\"6d5f77ce838267b9921c1a6bb3031c79\", element=\"5a4e83e4-f12e-4c15-a880-45c917acd5ee\")>,\n",
       " <selenium.webdriver.remote.webelement.WebElement (session=\"6d5f77ce838267b9921c1a6bb3031c79\", element=\"e33eb6a4-e77a-4b10-9d71-d8085abc34bd\")>,\n",
       " <selenium.webdriver.remote.webelement.WebElement (session=\"6d5f77ce838267b9921c1a6bb3031c79\", element=\"9186b389-549c-4f31-a2ab-ab2cd65e6189\")>,\n",
       " <selenium.webdriver.remote.webelement.WebElement (session=\"6d5f77ce838267b9921c1a6bb3031c79\", element=\"ff326bfb-baf8-4ed5-8f35-ff04604bc4f2\")>,\n",
       " <selenium.webdriver.remote.webelement.WebElement (session=\"6d5f77ce838267b9921c1a6bb3031c79\", element=\"1a38aa4b-840e-4a0a-86f6-ff4f16188bfa\")>,\n",
       " <selenium.webdriver.remote.webelement.WebElement (session=\"6d5f77ce838267b9921c1a6bb3031c79\", element=\"2f40e4aa-2130-409b-a68e-19f17a10d5c7\")>,\n",
       " <selenium.webdriver.remote.webelement.WebElement (session=\"6d5f77ce838267b9921c1a6bb3031c79\", element=\"0ab9525e-7354-4b4f-a407-5bba9aaa75a6\")>,\n",
       " <selenium.webdriver.remote.webelement.WebElement (session=\"6d5f77ce838267b9921c1a6bb3031c79\", element=\"134f583b-e518-4552-9963-b2f5399a3ccb\")>,\n",
       " <selenium.webdriver.remote.webelement.WebElement (session=\"6d5f77ce838267b9921c1a6bb3031c79\", element=\"25071f47-63c1-432b-aa90-c85c2173bfb5\")>,\n",
       " <selenium.webdriver.remote.webelement.WebElement (session=\"6d5f77ce838267b9921c1a6bb3031c79\", element=\"05b66147-bac5-4f0b-89e5-fc413e73ffe8\")>,\n",
       " <selenium.webdriver.remote.webelement.WebElement (session=\"6d5f77ce838267b9921c1a6bb3031c79\", element=\"12f2befc-74ae-4145-9d3b-8120502d9f5a\")>,\n",
       " <selenium.webdriver.remote.webelement.WebElement (session=\"6d5f77ce838267b9921c1a6bb3031c79\", element=\"59bced4a-374f-4b5f-a942-867547ae0928\")>,\n",
       " <selenium.webdriver.remote.webelement.WebElement (session=\"6d5f77ce838267b9921c1a6bb3031c79\", element=\"0f6ca2dd-a1d2-486d-8b0e-53f6ab3c1751\")>]"
      ]
     },
     "execution_count": 21,
     "metadata": {},
     "output_type": "execute_result"
    }
   ],
   "source": [
    "elem"
   ]
  },
  {
   "cell_type": "code",
   "execution_count": 27,
   "metadata": {
    "ExecuteTime": {
     "end_time": "2021-07-13T09:06:18.198461Z",
     "start_time": "2021-07-13T09:06:13.403107Z"
    }
   },
   "outputs": [
    {
     "name": "stdout",
     "output_type": "stream",
     "text": [
      "<selenium.webdriver.remote.webelement.WebElement (session=\"6d5f77ce838267b9921c1a6bb3031c79\", element=\"35a2b093-64c1-4071-a3f7-b55d3723c76d\")>\n",
      "<selenium.webdriver.remote.webelement.WebElement (session=\"6d5f77ce838267b9921c1a6bb3031c79\", element=\"d6424702-6a12-4ca1-abae-b3cb9c995232\")>\n",
      "<selenium.webdriver.remote.webelement.WebElement (session=\"6d5f77ce838267b9921c1a6bb3031c79\", element=\"5c45e856-b8cd-4cb2-acdf-2c1f1638be7c\")>\n",
      "<selenium.webdriver.remote.webelement.WebElement (session=\"6d5f77ce838267b9921c1a6bb3031c79\", element=\"fdce6c0a-7571-49ba-8f16-757a5fdbed9b\")>\n",
      "<selenium.webdriver.remote.webelement.WebElement (session=\"6d5f77ce838267b9921c1a6bb3031c79\", element=\"54cf9bce-3e6c-45a6-be7e-2c5c205cbaf7\")>\n",
      "<selenium.webdriver.remote.webelement.WebElement (session=\"6d5f77ce838267b9921c1a6bb3031c79\", element=\"184c259f-7052-4336-a929-17acde584266\")>\n",
      "<selenium.webdriver.remote.webelement.WebElement (session=\"6d5f77ce838267b9921c1a6bb3031c79\", element=\"ff759b9e-fcd8-4bd5-8bda-910c97082fcf\")>\n",
      "<selenium.webdriver.remote.webelement.WebElement (session=\"6d5f77ce838267b9921c1a6bb3031c79\", element=\"906821e0-f35a-4fe6-9b76-4f13cb109eb5\")>\n",
      "<selenium.webdriver.remote.webelement.WebElement (session=\"6d5f77ce838267b9921c1a6bb3031c79\", element=\"a1af1e95-5b50-4655-bef3-cae2459ad18a\")>\n",
      "<selenium.webdriver.remote.webelement.WebElement (session=\"6d5f77ce838267b9921c1a6bb3031c79\", element=\"2f93b2c5-e5bc-4b52-a3bb-6286991f0b9f\")>\n",
      "<selenium.webdriver.remote.webelement.WebElement (session=\"6d5f77ce838267b9921c1a6bb3031c79\", element=\"09e4ef66-7d2a-443b-af57-8a8f6b253434\")>\n",
      "<selenium.webdriver.remote.webelement.WebElement (session=\"6d5f77ce838267b9921c1a6bb3031c79\", element=\"b2ab629b-a558-4c29-9bc4-08d756740524\")>\n",
      "<selenium.webdriver.remote.webelement.WebElement (session=\"6d5f77ce838267b9921c1a6bb3031c79\", element=\"73534641-7713-4548-bafb-dc3d54310d8b\")>\n",
      "<selenium.webdriver.remote.webelement.WebElement (session=\"6d5f77ce838267b9921c1a6bb3031c79\", element=\"a40dc7c7-d6a4-414b-ac61-e81e0d4615dd\")>\n",
      "<selenium.webdriver.remote.webelement.WebElement (session=\"6d5f77ce838267b9921c1a6bb3031c79\", element=\"6ddeb0d8-d16e-42eb-b5e3-ac8ce74f9050\")>\n",
      "<selenium.webdriver.remote.webelement.WebElement (session=\"6d5f77ce838267b9921c1a6bb3031c79\", element=\"3f5fa7b4-6674-4c3f-ab0d-d020977c41a7\")>\n",
      "<selenium.webdriver.remote.webelement.WebElement (session=\"6d5f77ce838267b9921c1a6bb3031c79\", element=\"876aaf8a-19ab-4d61-9b14-3a0a68c47eb0\")>\n",
      "<selenium.webdriver.remote.webelement.WebElement (session=\"6d5f77ce838267b9921c1a6bb3031c79\", element=\"da6bc6f5-6953-4922-b225-ff05121f4fc7\")>\n",
      "<selenium.webdriver.remote.webelement.WebElement (session=\"6d5f77ce838267b9921c1a6bb3031c79\", element=\"32abe6a6-2a00-4d33-837c-2374ebcf6a8d\")>\n",
      "<selenium.webdriver.remote.webelement.WebElement (session=\"6d5f77ce838267b9921c1a6bb3031c79\", element=\"f6f521f4-81e2-4a25-9031-c62883a67f0b\")>\n",
      "<selenium.webdriver.remote.webelement.WebElement (session=\"6d5f77ce838267b9921c1a6bb3031c79\", element=\"e553d298-ac2e-46dc-9abe-57c403b7007c\")>\n",
      "<selenium.webdriver.remote.webelement.WebElement (session=\"6d5f77ce838267b9921c1a6bb3031c79\", element=\"27be5817-c276-4750-b617-ad3760520003\")>\n",
      "<selenium.webdriver.remote.webelement.WebElement (session=\"6d5f77ce838267b9921c1a6bb3031c79\", element=\"30507a60-6105-41da-8d22-903c095b870e\")>\n",
      "<selenium.webdriver.remote.webelement.WebElement (session=\"6d5f77ce838267b9921c1a6bb3031c79\", element=\"b818264e-e1df-4595-92a1-848e2f37c4fe\")>\n",
      "<selenium.webdriver.remote.webelement.WebElement (session=\"6d5f77ce838267b9921c1a6bb3031c79\", element=\"0b6d11dd-ba3a-4cf5-94cc-b0a919efc260\")>\n",
      "<selenium.webdriver.remote.webelement.WebElement (session=\"6d5f77ce838267b9921c1a6bb3031c79\", element=\"e964e104-c78d-4b27-9749-88788cf22cb6\")>\n",
      "<selenium.webdriver.remote.webelement.WebElement (session=\"6d5f77ce838267b9921c1a6bb3031c79\", element=\"4f5a11ff-34f9-42fc-98f5-9ba5ddda09fe\")>\n",
      "<selenium.webdriver.remote.webelement.WebElement (session=\"6d5f77ce838267b9921c1a6bb3031c79\", element=\"727c3c1a-2db1-48de-9709-19397c007ffa\")>\n",
      "<selenium.webdriver.remote.webelement.WebElement (session=\"6d5f77ce838267b9921c1a6bb3031c79\", element=\"1615a087-e3f7-430b-b4ac-4d41b4ccf131\")>\n",
      "<selenium.webdriver.remote.webelement.WebElement (session=\"6d5f77ce838267b9921c1a6bb3031c79\", element=\"524691d1-8301-4797-9eb2-3fbdaf15e938\")>\n",
      "<selenium.webdriver.remote.webelement.WebElement (session=\"6d5f77ce838267b9921c1a6bb3031c79\", element=\"c4beb27d-83f6-40bf-9a38-7febb4c70d7b\")>\n",
      "<selenium.webdriver.remote.webelement.WebElement (session=\"6d5f77ce838267b9921c1a6bb3031c79\", element=\"d15f973c-b214-4311-b319-ecfb1737d7ef\")>\n",
      "<selenium.webdriver.remote.webelement.WebElement (session=\"6d5f77ce838267b9921c1a6bb3031c79\", element=\"9554a757-9a96-4223-b821-82c29590a35c\")>\n",
      "<selenium.webdriver.remote.webelement.WebElement (session=\"6d5f77ce838267b9921c1a6bb3031c79\", element=\"81636d7c-35b6-4f54-ae68-f52399c17c42\")>\n",
      "<selenium.webdriver.remote.webelement.WebElement (session=\"6d5f77ce838267b9921c1a6bb3031c79\", element=\"6c7f07c7-604c-4b67-a5ce-255ab25bf31c\")>\n",
      "<selenium.webdriver.remote.webelement.WebElement (session=\"6d5f77ce838267b9921c1a6bb3031c79\", element=\"db609b39-44a8-4840-b4cf-9f315698ff31\")>\n",
      "<selenium.webdriver.remote.webelement.WebElement (session=\"6d5f77ce838267b9921c1a6bb3031c79\", element=\"9d2973b4-4976-4b28-9f3c-cf4e4eb1e24f\")>\n",
      "<selenium.webdriver.remote.webelement.WebElement (session=\"6d5f77ce838267b9921c1a6bb3031c79\", element=\"2146b0ff-1dce-497a-8f8c-f5dc0a73fbf9\")>\n",
      "<selenium.webdriver.remote.webelement.WebElement (session=\"6d5f77ce838267b9921c1a6bb3031c79\", element=\"86a7e52c-2092-4a7f-bc9b-704a4d3d1a67\")>\n",
      "<selenium.webdriver.remote.webelement.WebElement (session=\"6d5f77ce838267b9921c1a6bb3031c79\", element=\"72e163e7-2931-4269-9347-46f2bc234141\")>\n",
      "<selenium.webdriver.remote.webelement.WebElement (session=\"6d5f77ce838267b9921c1a6bb3031c79\", element=\"8010cc2f-bcc6-4442-818d-a67f8876cc0e\")>\n",
      "<selenium.webdriver.remote.webelement.WebElement (session=\"6d5f77ce838267b9921c1a6bb3031c79\", element=\"6d9c9299-982c-4beb-a7c3-f3990d217c5a\")>\n",
      "<selenium.webdriver.remote.webelement.WebElement (session=\"6d5f77ce838267b9921c1a6bb3031c79\", element=\"a73b420d-6207-40da-a7a4-c4ae29353d62\")>\n",
      "<selenium.webdriver.remote.webelement.WebElement (session=\"6d5f77ce838267b9921c1a6bb3031c79\", element=\"895e454d-da7c-428f-99e2-1ac35bbef721\")>\n",
      "<selenium.webdriver.remote.webelement.WebElement (session=\"6d5f77ce838267b9921c1a6bb3031c79\", element=\"a6f07e01-8873-4824-b7d7-cc84e9a8b8f1\")>\n",
      "<selenium.webdriver.remote.webelement.WebElement (session=\"6d5f77ce838267b9921c1a6bb3031c79\", element=\"91cd6b4a-7709-4a27-9dbb-979c8bd0e0df\")>\n",
      "<selenium.webdriver.remote.webelement.WebElement (session=\"6d5f77ce838267b9921c1a6bb3031c79\", element=\"091c3334-70aa-4818-8942-74c67bfdbc36\")>\n",
      "<selenium.webdriver.remote.webelement.WebElement (session=\"6d5f77ce838267b9921c1a6bb3031c79\", element=\"f066aaa5-60ee-4045-ac6e-eebd68eedd03\")>\n",
      "<selenium.webdriver.remote.webelement.WebElement (session=\"6d5f77ce838267b9921c1a6bb3031c79\", element=\"37dc4a31-92fd-4c9d-88fe-10ccf8f66ae4\")>\n",
      "<selenium.webdriver.remote.webelement.WebElement (session=\"6d5f77ce838267b9921c1a6bb3031c79\", element=\"1cf8efe0-3143-4b74-988f-f5c4c887ca4e\")>\n",
      "<selenium.webdriver.remote.webelement.WebElement (session=\"6d5f77ce838267b9921c1a6bb3031c79\", element=\"8558d6c7-34e4-4d98-be13-2f19b1568d4d\")>\n",
      "<selenium.webdriver.remote.webelement.WebElement (session=\"6d5f77ce838267b9921c1a6bb3031c79\", element=\"89adcc73-9a94-4b3e-b466-5fee7fa0a28c\")>\n",
      "<selenium.webdriver.remote.webelement.WebElement (session=\"6d5f77ce838267b9921c1a6bb3031c79\", element=\"b011f7e4-d718-4ff1-bc55-2c9e3b13e417\")>\n",
      "<selenium.webdriver.remote.webelement.WebElement (session=\"6d5f77ce838267b9921c1a6bb3031c79\", element=\"127ef749-70ca-43ed-95c4-15e5d932630d\")>\n",
      "<selenium.webdriver.remote.webelement.WebElement (session=\"6d5f77ce838267b9921c1a6bb3031c79\", element=\"76391a8e-7877-4222-9c3a-f57562cd96b7\")>\n",
      "<selenium.webdriver.remote.webelement.WebElement (session=\"6d5f77ce838267b9921c1a6bb3031c79\", element=\"3b628f94-9df7-491a-8a94-048f76e6e3c5\")>\n",
      "<selenium.webdriver.remote.webelement.WebElement (session=\"6d5f77ce838267b9921c1a6bb3031c79\", element=\"613a6d41-d6c7-42b5-8975-6043ba71f4de\")>\n",
      "<selenium.webdriver.remote.webelement.WebElement (session=\"6d5f77ce838267b9921c1a6bb3031c79\", element=\"6a340695-aba3-4075-b98e-d38d41627d8d\")>\n",
      "<selenium.webdriver.remote.webelement.WebElement (session=\"6d5f77ce838267b9921c1a6bb3031c79\", element=\"43e8e23a-4dcc-4ef7-884f-4ce50e51dea2\")>\n"
     ]
    },
    {
     "name": "stdout",
     "output_type": "stream",
     "text": [
      "<selenium.webdriver.remote.webelement.WebElement (session=\"6d5f77ce838267b9921c1a6bb3031c79\", element=\"797bf653-17f2-426d-934c-f1e13b2e5fc1\")>\n",
      "<selenium.webdriver.remote.webelement.WebElement (session=\"6d5f77ce838267b9921c1a6bb3031c79\", element=\"23efb583-05d7-4da9-9eee-480bdc9d7a65\")>\n",
      "<selenium.webdriver.remote.webelement.WebElement (session=\"6d5f77ce838267b9921c1a6bb3031c79\", element=\"2617f617-ad63-40fa-9c33-672c9c7ceeb9\")>\n",
      "<selenium.webdriver.remote.webelement.WebElement (session=\"6d5f77ce838267b9921c1a6bb3031c79\", element=\"78ae2219-15c2-4810-9084-8cd0f0b1907b\")>\n",
      "<selenium.webdriver.remote.webelement.WebElement (session=\"6d5f77ce838267b9921c1a6bb3031c79\", element=\"867cf730-31a6-4625-b780-a1c7437d31f9\")>\n",
      "<selenium.webdriver.remote.webelement.WebElement (session=\"6d5f77ce838267b9921c1a6bb3031c79\", element=\"2575c203-e720-4861-b7f4-6ad403dc8f2b\")>\n",
      "<selenium.webdriver.remote.webelement.WebElement (session=\"6d5f77ce838267b9921c1a6bb3031c79\", element=\"cf53e63d-8ce5-4fce-8436-57e9d4aa8596\")>\n",
      "<selenium.webdriver.remote.webelement.WebElement (session=\"6d5f77ce838267b9921c1a6bb3031c79\", element=\"38b44435-2917-4c71-ad8d-6605567c9baa\")>\n",
      "<selenium.webdriver.remote.webelement.WebElement (session=\"6d5f77ce838267b9921c1a6bb3031c79\", element=\"f988ec1f-8c1d-4fb7-9d88-325f33f8d241\")>\n",
      "<selenium.webdriver.remote.webelement.WebElement (session=\"6d5f77ce838267b9921c1a6bb3031c79\", element=\"441bcfac-e296-469a-97a2-c15f0fecd0ec\")>\n",
      "<selenium.webdriver.remote.webelement.WebElement (session=\"6d5f77ce838267b9921c1a6bb3031c79\", element=\"b9eb3de7-f41b-44a9-8664-073e7f2e0fcd\")>\n",
      "<selenium.webdriver.remote.webelement.WebElement (session=\"6d5f77ce838267b9921c1a6bb3031c79\", element=\"b9af8c15-d026-43e9-8840-65d8b58fab2e\")>\n",
      "<selenium.webdriver.remote.webelement.WebElement (session=\"6d5f77ce838267b9921c1a6bb3031c79\", element=\"189c0760-109b-485a-9bac-3ecb10286b7a\")>\n",
      "<selenium.webdriver.remote.webelement.WebElement (session=\"6d5f77ce838267b9921c1a6bb3031c79\", element=\"d20ce5a6-37b3-4239-b2fb-1fd051ef9398\")>\n",
      "<selenium.webdriver.remote.webelement.WebElement (session=\"6d5f77ce838267b9921c1a6bb3031c79\", element=\"1dca436f-b6e3-4b4e-870b-076e4e42a5a1\")>\n",
      "<selenium.webdriver.remote.webelement.WebElement (session=\"6d5f77ce838267b9921c1a6bb3031c79\", element=\"6e3129a1-8c85-4143-a18c-730fbff98796\")>\n",
      "<selenium.webdriver.remote.webelement.WebElement (session=\"6d5f77ce838267b9921c1a6bb3031c79\", element=\"3aa55439-e4bf-4702-bc9e-ad997433ec42\")>\n",
      "<selenium.webdriver.remote.webelement.WebElement (session=\"6d5f77ce838267b9921c1a6bb3031c79\", element=\"f26eca31-58a4-48bf-91f8-b657b5ac0a3b\")>\n",
      "<selenium.webdriver.remote.webelement.WebElement (session=\"6d5f77ce838267b9921c1a6bb3031c79\", element=\"7eb3475f-d122-4ea2-8e9e-441abc19dcc4\")>\n",
      "<selenium.webdriver.remote.webelement.WebElement (session=\"6d5f77ce838267b9921c1a6bb3031c79\", element=\"1fb89878-bc7f-4a5c-9f3f-ed8c2492cc28\")>\n",
      "<selenium.webdriver.remote.webelement.WebElement (session=\"6d5f77ce838267b9921c1a6bb3031c79\", element=\"97af5c35-3988-47b9-8b82-963de7b5aced\")>\n",
      "<selenium.webdriver.remote.webelement.WebElement (session=\"6d5f77ce838267b9921c1a6bb3031c79\", element=\"8730ed1a-71bb-446d-b1e4-471d90b741c4\")>\n",
      "<selenium.webdriver.remote.webelement.WebElement (session=\"6d5f77ce838267b9921c1a6bb3031c79\", element=\"c08e00aa-437e-468b-abed-666f340b5b32\")>\n",
      "<selenium.webdriver.remote.webelement.WebElement (session=\"6d5f77ce838267b9921c1a6bb3031c79\", element=\"16e00efa-60ac-4eb6-8ed7-14a0a093ea9b\")>\n",
      "<selenium.webdriver.remote.webelement.WebElement (session=\"6d5f77ce838267b9921c1a6bb3031c79\", element=\"d6d5aad2-dc3f-4abe-b847-6d4b1950240d\")>\n",
      "<selenium.webdriver.remote.webelement.WebElement (session=\"6d5f77ce838267b9921c1a6bb3031c79\", element=\"d6a0670e-4f3d-4180-898f-c9c431947dfc\")>\n",
      "<selenium.webdriver.remote.webelement.WebElement (session=\"6d5f77ce838267b9921c1a6bb3031c79\", element=\"71dc966b-e017-4b90-81fe-37a0821c3475\")>\n",
      "<selenium.webdriver.remote.webelement.WebElement (session=\"6d5f77ce838267b9921c1a6bb3031c79\", element=\"4fe90f2a-8ec0-4c04-aa70-437380d52ad0\")>\n",
      "<selenium.webdriver.remote.webelement.WebElement (session=\"6d5f77ce838267b9921c1a6bb3031c79\", element=\"0f844687-c691-48bb-a164-bf35fc052514\")>\n",
      "<selenium.webdriver.remote.webelement.WebElement (session=\"6d5f77ce838267b9921c1a6bb3031c79\", element=\"9cd241be-2b99-4947-ac61-7cb0fc512b4e\")>\n",
      "<selenium.webdriver.remote.webelement.WebElement (session=\"6d5f77ce838267b9921c1a6bb3031c79\", element=\"4b123422-d949-4450-9162-9fb6468fe31f\")>\n",
      "<selenium.webdriver.remote.webelement.WebElement (session=\"6d5f77ce838267b9921c1a6bb3031c79\", element=\"9c14c54d-5719-40bc-90eb-d0fb190ad374\")>\n",
      "<selenium.webdriver.remote.webelement.WebElement (session=\"6d5f77ce838267b9921c1a6bb3031c79\", element=\"ece92371-b33a-4a00-bd31-bf52ee7186cc\")>\n",
      "<selenium.webdriver.remote.webelement.WebElement (session=\"6d5f77ce838267b9921c1a6bb3031c79\", element=\"c3a654f7-8290-4f2b-9b69-711169c3ae79\")>\n",
      "<selenium.webdriver.remote.webelement.WebElement (session=\"6d5f77ce838267b9921c1a6bb3031c79\", element=\"142f4936-0a24-4f0b-b433-1bac49807a28\")>\n",
      "<selenium.webdriver.remote.webelement.WebElement (session=\"6d5f77ce838267b9921c1a6bb3031c79\", element=\"47f775be-aa1a-4cf0-b2e2-62c5739dc812\")>\n",
      "<selenium.webdriver.remote.webelement.WebElement (session=\"6d5f77ce838267b9921c1a6bb3031c79\", element=\"54490c46-d498-47b6-aa51-3151eb7fec2a\")>\n",
      "<selenium.webdriver.remote.webelement.WebElement (session=\"6d5f77ce838267b9921c1a6bb3031c79\", element=\"5c6da767-0ecd-43db-9058-4eaf2d2fd275\")>\n",
      "<selenium.webdriver.remote.webelement.WebElement (session=\"6d5f77ce838267b9921c1a6bb3031c79\", element=\"da1babbb-8cd0-40c0-ad2b-efac92ec53dc\")>\n",
      "<selenium.webdriver.remote.webelement.WebElement (session=\"6d5f77ce838267b9921c1a6bb3031c79\", element=\"5e884b0d-1bf8-4a1b-9474-a24aca2342ed\")>\n",
      "<selenium.webdriver.remote.webelement.WebElement (session=\"6d5f77ce838267b9921c1a6bb3031c79\", element=\"aa3851ef-6c9e-4375-8f1b-1d471b1621c2\")>\n",
      "<selenium.webdriver.remote.webelement.WebElement (session=\"6d5f77ce838267b9921c1a6bb3031c79\", element=\"39f2b8a9-6258-4111-8280-beec50536b4d\")>\n",
      "<selenium.webdriver.remote.webelement.WebElement (session=\"6d5f77ce838267b9921c1a6bb3031c79\", element=\"7d12eee5-d2e3-4524-ba62-aec72f35973d\")>\n",
      "<selenium.webdriver.remote.webelement.WebElement (session=\"6d5f77ce838267b9921c1a6bb3031c79\", element=\"4e0923e6-0618-4a54-8e95-63c0242700c5\")>\n",
      "<selenium.webdriver.remote.webelement.WebElement (session=\"6d5f77ce838267b9921c1a6bb3031c79\", element=\"de63dd30-ee3a-4a43-9ce1-3c790e0bfbca\")>\n",
      "<selenium.webdriver.remote.webelement.WebElement (session=\"6d5f77ce838267b9921c1a6bb3031c79\", element=\"42805bfe-7c94-419d-a7f1-045946610f7a\")>\n",
      "<selenium.webdriver.remote.webelement.WebElement (session=\"6d5f77ce838267b9921c1a6bb3031c79\", element=\"d1af4e1b-7a7b-4b84-a504-254e3469e596\")>\n",
      "<selenium.webdriver.remote.webelement.WebElement (session=\"6d5f77ce838267b9921c1a6bb3031c79\", element=\"844730f2-9857-4a4c-bb8a-19cd29c2f44f\")>\n",
      "<selenium.webdriver.remote.webelement.WebElement (session=\"6d5f77ce838267b9921c1a6bb3031c79\", element=\"be2c6520-dea7-4c82-a936-750baf119f9a\")>\n",
      "<selenium.webdriver.remote.webelement.WebElement (session=\"6d5f77ce838267b9921c1a6bb3031c79\", element=\"e1feba9e-9119-40cc-b85f-e812b59bb631\")>\n",
      "<selenium.webdriver.remote.webelement.WebElement (session=\"6d5f77ce838267b9921c1a6bb3031c79\", element=\"c66f1a41-2e1f-4861-a90b-8c80c9f740aa\")>\n",
      "<selenium.webdriver.remote.webelement.WebElement (session=\"6d5f77ce838267b9921c1a6bb3031c79\", element=\"b35c2a85-0795-4e4e-9f2f-266a9af2fc25\")>\n",
      "<selenium.webdriver.remote.webelement.WebElement (session=\"6d5f77ce838267b9921c1a6bb3031c79\", element=\"aa24960b-d10a-4615-85b0-ea1c2667325b\")>\n",
      "<selenium.webdriver.remote.webelement.WebElement (session=\"6d5f77ce838267b9921c1a6bb3031c79\", element=\"ed5fce9c-fab8-496a-9a4c-0a5576c3bff2\")>\n",
      "<selenium.webdriver.remote.webelement.WebElement (session=\"6d5f77ce838267b9921c1a6bb3031c79\", element=\"dfc6817d-ddfe-49da-bcd3-24b65f31c1a9\")>\n",
      "<selenium.webdriver.remote.webelement.WebElement (session=\"6d5f77ce838267b9921c1a6bb3031c79\", element=\"00070b94-5ce4-47f7-a5e2-067efd64f30f\")>\n",
      "<selenium.webdriver.remote.webelement.WebElement (session=\"6d5f77ce838267b9921c1a6bb3031c79\", element=\"b4defc77-08db-4913-b779-0e87edc58973\")>\n",
      "<selenium.webdriver.remote.webelement.WebElement (session=\"6d5f77ce838267b9921c1a6bb3031c79\", element=\"d8a0fe68-30e5-4b19-a0de-9e6c81f3facc\")>\n",
      "<selenium.webdriver.remote.webelement.WebElement (session=\"6d5f77ce838267b9921c1a6bb3031c79\", element=\"1411ed39-50bf-404d-be35-66f39a5c7fc6\")>\n",
      "<selenium.webdriver.remote.webelement.WebElement (session=\"6d5f77ce838267b9921c1a6bb3031c79\", element=\"bc332396-6eb6-4c5c-96ec-a43aaa74e300\")>\n",
      "<selenium.webdriver.remote.webelement.WebElement (session=\"6d5f77ce838267b9921c1a6bb3031c79\", element=\"bd1ad994-b5b4-4f15-8437-95f76fd18c91\")>\n",
      "<selenium.webdriver.remote.webelement.WebElement (session=\"6d5f77ce838267b9921c1a6bb3031c79\", element=\"ab6766f0-356c-4848-8c34-7f0c16b213d9\")>\n",
      "<selenium.webdriver.remote.webelement.WebElement (session=\"6d5f77ce838267b9921c1a6bb3031c79\", element=\"df8cdb46-c5b6-4ed9-b433-ff60273c93fc\")>\n",
      "<selenium.webdriver.remote.webelement.WebElement (session=\"6d5f77ce838267b9921c1a6bb3031c79\", element=\"f5d25f3d-f788-48fb-b4dc-902fe360851a\")>\n",
      "<selenium.webdriver.remote.webelement.WebElement (session=\"6d5f77ce838267b9921c1a6bb3031c79\", element=\"10c0c46b-902f-4acb-9a31-5490b6d795ff\")>\n",
      "<selenium.webdriver.remote.webelement.WebElement (session=\"6d5f77ce838267b9921c1a6bb3031c79\", element=\"b041e4e3-c7bf-45f5-84d0-136dfa6a8556\")>\n",
      "<selenium.webdriver.remote.webelement.WebElement (session=\"6d5f77ce838267b9921c1a6bb3031c79\", element=\"da7b5a46-d4c4-4c50-9c54-28c9c8db8bcb\")>\n",
      "<selenium.webdriver.remote.webelement.WebElement (session=\"6d5f77ce838267b9921c1a6bb3031c79\", element=\"29b992e7-1031-4e1d-b89a-a79600d3e16a\")>\n",
      "<selenium.webdriver.remote.webelement.WebElement (session=\"6d5f77ce838267b9921c1a6bb3031c79\", element=\"552d24c1-394c-4d53-b07e-bfe09491e58b\")>\n",
      "<selenium.webdriver.remote.webelement.WebElement (session=\"6d5f77ce838267b9921c1a6bb3031c79\", element=\"a41243d1-4447-4595-a07d-704dc6c26d4e\")>\n",
      "<selenium.webdriver.remote.webelement.WebElement (session=\"6d5f77ce838267b9921c1a6bb3031c79\", element=\"6aef777b-0192-4c12-9f9b-f0cea3b044a5\")>\n"
     ]
    },
    {
     "name": "stdout",
     "output_type": "stream",
     "text": [
      "<selenium.webdriver.remote.webelement.WebElement (session=\"6d5f77ce838267b9921c1a6bb3031c79\", element=\"f0dff337-9a7b-4c36-83c0-dc5e701f2846\")>\n",
      "<selenium.webdriver.remote.webelement.WebElement (session=\"6d5f77ce838267b9921c1a6bb3031c79\", element=\"f91b1704-eed3-4746-851e-a2843f6c1138\")>\n",
      "<selenium.webdriver.remote.webelement.WebElement (session=\"6d5f77ce838267b9921c1a6bb3031c79\", element=\"62772f55-398c-4a0d-bdfc-40562b64daa4\")>\n",
      "<selenium.webdriver.remote.webelement.WebElement (session=\"6d5f77ce838267b9921c1a6bb3031c79\", element=\"1dec41b5-2060-4caf-9cae-33af7e50e008\")>\n",
      "<selenium.webdriver.remote.webelement.WebElement (session=\"6d5f77ce838267b9921c1a6bb3031c79\", element=\"c342c7ff-68a3-4aa3-a02f-ca89c95a70e8\")>\n",
      "<selenium.webdriver.remote.webelement.WebElement (session=\"6d5f77ce838267b9921c1a6bb3031c79\", element=\"2f4fdf3d-dc74-494f-967a-10f4cfe64692\")>\n",
      "<selenium.webdriver.remote.webelement.WebElement (session=\"6d5f77ce838267b9921c1a6bb3031c79\", element=\"94c9e233-5632-4221-a257-971e9feae074\")>\n",
      "<selenium.webdriver.remote.webelement.WebElement (session=\"6d5f77ce838267b9921c1a6bb3031c79\", element=\"f26917dd-f647-4858-a351-a78fa0719f69\")>\n",
      "<selenium.webdriver.remote.webelement.WebElement (session=\"6d5f77ce838267b9921c1a6bb3031c79\", element=\"529e1230-59f2-4fe3-8bc4-a48511cbde7c\")>\n",
      "<selenium.webdriver.remote.webelement.WebElement (session=\"6d5f77ce838267b9921c1a6bb3031c79\", element=\"0a02e506-6ca0-4a23-aead-4deecc5581f9\")>\n",
      "<selenium.webdriver.remote.webelement.WebElement (session=\"6d5f77ce838267b9921c1a6bb3031c79\", element=\"cdfa1567-01cf-460b-ab23-65a1e869943d\")>\n",
      "<selenium.webdriver.remote.webelement.WebElement (session=\"6d5f77ce838267b9921c1a6bb3031c79\", element=\"14235444-34fe-4fd8-8a8d-5f714dc14c4e\")>\n",
      "<selenium.webdriver.remote.webelement.WebElement (session=\"6d5f77ce838267b9921c1a6bb3031c79\", element=\"c4454a77-599f-43cc-8b4a-1607f1f88f7a\")>\n",
      "<selenium.webdriver.remote.webelement.WebElement (session=\"6d5f77ce838267b9921c1a6bb3031c79\", element=\"ffa8d99f-ad5f-478e-972d-c80ecb7c481d\")>\n",
      "<selenium.webdriver.remote.webelement.WebElement (session=\"6d5f77ce838267b9921c1a6bb3031c79\", element=\"5ab1ff7d-855c-4416-865c-50bec899fa29\")>\n",
      "<selenium.webdriver.remote.webelement.WebElement (session=\"6d5f77ce838267b9921c1a6bb3031c79\", element=\"20b4d40c-5a4b-46da-8269-1cb877583ab0\")>\n",
      "<selenium.webdriver.remote.webelement.WebElement (session=\"6d5f77ce838267b9921c1a6bb3031c79\", element=\"5c0f9a3c-2714-4544-b9ab-ae938c58e2f4\")>\n",
      "<selenium.webdriver.remote.webelement.WebElement (session=\"6d5f77ce838267b9921c1a6bb3031c79\", element=\"3a54b895-d739-490b-88a4-9604d9456f9b\")>\n",
      "<selenium.webdriver.remote.webelement.WebElement (session=\"6d5f77ce838267b9921c1a6bb3031c79\", element=\"f5254978-dac8-4e72-a27f-b711091631c6\")>\n",
      "<selenium.webdriver.remote.webelement.WebElement (session=\"6d5f77ce838267b9921c1a6bb3031c79\", element=\"bfd93be7-39c0-4434-902f-2034b4045bb8\")>\n",
      "<selenium.webdriver.remote.webelement.WebElement (session=\"6d5f77ce838267b9921c1a6bb3031c79\", element=\"ab36302a-03a6-4d0e-8eaf-476083f0fbcc\")>\n",
      "<selenium.webdriver.remote.webelement.WebElement (session=\"6d5f77ce838267b9921c1a6bb3031c79\", element=\"9727cd65-d55b-497f-91ba-97b77acc2269\")>\n",
      "<selenium.webdriver.remote.webelement.WebElement (session=\"6d5f77ce838267b9921c1a6bb3031c79\", element=\"e976a74b-5ea8-43bd-a59e-7759a44ee198\")>\n",
      "<selenium.webdriver.remote.webelement.WebElement (session=\"6d5f77ce838267b9921c1a6bb3031c79\", element=\"a059a635-c55b-4733-a40b-80ef020c914e\")>\n",
      "<selenium.webdriver.remote.webelement.WebElement (session=\"6d5f77ce838267b9921c1a6bb3031c79\", element=\"cc94b7c9-6c25-4390-91a8-663756f616da\")>\n",
      "<selenium.webdriver.remote.webelement.WebElement (session=\"6d5f77ce838267b9921c1a6bb3031c79\", element=\"39613cc4-7bfc-4b6f-a415-25f924819cc2\")>\n",
      "<selenium.webdriver.remote.webelement.WebElement (session=\"6d5f77ce838267b9921c1a6bb3031c79\", element=\"68ba2f3b-06be-4b2c-b24c-80efdc4f6979\")>\n",
      "<selenium.webdriver.remote.webelement.WebElement (session=\"6d5f77ce838267b9921c1a6bb3031c79\", element=\"7d2f8c42-5d84-40c4-aa3e-0d2447a586f4\")>\n",
      "<selenium.webdriver.remote.webelement.WebElement (session=\"6d5f77ce838267b9921c1a6bb3031c79\", element=\"29d50867-ba25-41cc-8d51-73402b4ca64a\")>\n",
      "<selenium.webdriver.remote.webelement.WebElement (session=\"6d5f77ce838267b9921c1a6bb3031c79\", element=\"ea93a927-f752-47dd-8823-c30a7804776e\")>\n",
      "<selenium.webdriver.remote.webelement.WebElement (session=\"6d5f77ce838267b9921c1a6bb3031c79\", element=\"2be033f6-aedb-43bf-b52a-f79accda99cf\")>\n",
      "<selenium.webdriver.remote.webelement.WebElement (session=\"6d5f77ce838267b9921c1a6bb3031c79\", element=\"14f9a25f-8b46-435d-86f0-34b8a951e16f\")>\n",
      "<selenium.webdriver.remote.webelement.WebElement (session=\"6d5f77ce838267b9921c1a6bb3031c79\", element=\"74bda133-b7f4-44dc-a52f-5839bf219cfa\")>\n",
      "<selenium.webdriver.remote.webelement.WebElement (session=\"6d5f77ce838267b9921c1a6bb3031c79\", element=\"e83b28e0-84d8-47c5-8b3b-962862737402\")>\n",
      "<selenium.webdriver.remote.webelement.WebElement (session=\"6d5f77ce838267b9921c1a6bb3031c79\", element=\"0f81288f-17d9-4d1b-a720-c8323c1b146c\")>\n",
      "<selenium.webdriver.remote.webelement.WebElement (session=\"6d5f77ce838267b9921c1a6bb3031c79\", element=\"1b7edfc1-b412-413a-8b84-178d8ba4d0c1\")>\n",
      "<selenium.webdriver.remote.webelement.WebElement (session=\"6d5f77ce838267b9921c1a6bb3031c79\", element=\"b2e5e789-b1fd-4b97-8a37-2a5e4e9c5a3a\")>\n",
      "<selenium.webdriver.remote.webelement.WebElement (session=\"6d5f77ce838267b9921c1a6bb3031c79\", element=\"214da9b1-8a31-4176-82e8-08a2f035919f\")>\n",
      "<selenium.webdriver.remote.webelement.WebElement (session=\"6d5f77ce838267b9921c1a6bb3031c79\", element=\"bd38a5de-39b1-4b52-8dd0-a330a8f4f73d\")>\n",
      "<selenium.webdriver.remote.webelement.WebElement (session=\"6d5f77ce838267b9921c1a6bb3031c79\", element=\"ef4259cd-b7d7-4034-918c-acc05a6967b9\")>\n",
      "<selenium.webdriver.remote.webelement.WebElement (session=\"6d5f77ce838267b9921c1a6bb3031c79\", element=\"ffa7f6d7-14a4-410c-a041-3315e6b98507\")>\n",
      "<selenium.webdriver.remote.webelement.WebElement (session=\"6d5f77ce838267b9921c1a6bb3031c79\", element=\"90ea22a7-0b37-44dd-92c8-86aedb8fc637\")>\n",
      "<selenium.webdriver.remote.webelement.WebElement (session=\"6d5f77ce838267b9921c1a6bb3031c79\", element=\"a4ce9b7c-c9c6-49f3-bab9-794adf0beb96\")>\n",
      "<selenium.webdriver.remote.webelement.WebElement (session=\"6d5f77ce838267b9921c1a6bb3031c79\", element=\"ad21e786-d957-4940-a868-d37a418c7a77\")>\n",
      "<selenium.webdriver.remote.webelement.WebElement (session=\"6d5f77ce838267b9921c1a6bb3031c79\", element=\"6da8080e-5219-4051-802c-767b91a8e0ba\")>\n",
      "<selenium.webdriver.remote.webelement.WebElement (session=\"6d5f77ce838267b9921c1a6bb3031c79\", element=\"bc823a67-3132-466c-bc5c-3dc23fcdc32c\")>\n",
      "<selenium.webdriver.remote.webelement.WebElement (session=\"6d5f77ce838267b9921c1a6bb3031c79\", element=\"60ecd744-1838-44bf-8591-d5c8c561820a\")>\n",
      "<selenium.webdriver.remote.webelement.WebElement (session=\"6d5f77ce838267b9921c1a6bb3031c79\", element=\"f3541e04-20aa-402c-b6f1-496ad17b803f\")>\n",
      "<selenium.webdriver.remote.webelement.WebElement (session=\"6d5f77ce838267b9921c1a6bb3031c79\", element=\"4afab861-91b4-4ec5-a10a-49c35764cfa5\")>\n",
      "<selenium.webdriver.remote.webelement.WebElement (session=\"6d5f77ce838267b9921c1a6bb3031c79\", element=\"ea5b09c4-a10d-48c7-9a31-80af5f685cfc\")>\n",
      "<selenium.webdriver.remote.webelement.WebElement (session=\"6d5f77ce838267b9921c1a6bb3031c79\", element=\"fe013386-eff9-4e8c-8f84-56a50037bac5\")>\n",
      "<selenium.webdriver.remote.webelement.WebElement (session=\"6d5f77ce838267b9921c1a6bb3031c79\", element=\"cd0b9fba-185f-4422-a59f-62049468f554\")>\n",
      "<selenium.webdriver.remote.webelement.WebElement (session=\"6d5f77ce838267b9921c1a6bb3031c79\", element=\"f15269c3-3cfc-48dd-a88d-4829b2689365\")>\n",
      "<selenium.webdriver.remote.webelement.WebElement (session=\"6d5f77ce838267b9921c1a6bb3031c79\", element=\"a8a634a1-8ae2-45b0-8367-fc51706618ff\")>\n",
      "<selenium.webdriver.remote.webelement.WebElement (session=\"6d5f77ce838267b9921c1a6bb3031c79\", element=\"e8c5fb8c-4b6e-4923-a144-31a49a788411\")>\n",
      "<selenium.webdriver.remote.webelement.WebElement (session=\"6d5f77ce838267b9921c1a6bb3031c79\", element=\"65beaf8a-d375-4745-b4c8-d4c60e8414d4\")>\n",
      "<selenium.webdriver.remote.webelement.WebElement (session=\"6d5f77ce838267b9921c1a6bb3031c79\", element=\"3f794837-7376-4bd8-9a52-e199241f5104\")>\n",
      "<selenium.webdriver.remote.webelement.WebElement (session=\"6d5f77ce838267b9921c1a6bb3031c79\", element=\"1f0f3ee8-23ae-4dba-85b2-d0c25672af04\")>\n",
      "<selenium.webdriver.remote.webelement.WebElement (session=\"6d5f77ce838267b9921c1a6bb3031c79\", element=\"d3f22f69-2319-4b72-b31b-6676d69f1cbb\")>\n",
      "<selenium.webdriver.remote.webelement.WebElement (session=\"6d5f77ce838267b9921c1a6bb3031c79\", element=\"ea5a4f17-ebf2-41eb-8af1-64b370bff423\")>\n",
      "<selenium.webdriver.remote.webelement.WebElement (session=\"6d5f77ce838267b9921c1a6bb3031c79\", element=\"8985b30f-cf1f-4f68-ace7-63f59dcc31a4\")>\n",
      "<selenium.webdriver.remote.webelement.WebElement (session=\"6d5f77ce838267b9921c1a6bb3031c79\", element=\"79093eef-593f-462a-9a56-fb20bc9d6512\")>\n",
      "<selenium.webdriver.remote.webelement.WebElement (session=\"6d5f77ce838267b9921c1a6bb3031c79\", element=\"280dbabe-ead0-40a5-babf-255a5ac13336\")>\n",
      "<selenium.webdriver.remote.webelement.WebElement (session=\"6d5f77ce838267b9921c1a6bb3031c79\", element=\"c60bb7b3-eeed-47ee-89d5-a90e50382418\")>\n",
      "<selenium.webdriver.remote.webelement.WebElement (session=\"6d5f77ce838267b9921c1a6bb3031c79\", element=\"36405474-199a-4f2a-8bdd-a12a69ba3ad9\")>\n",
      "<selenium.webdriver.remote.webelement.WebElement (session=\"6d5f77ce838267b9921c1a6bb3031c79\", element=\"8c5af334-fb7d-4e42-a3ee-43da722dc116\")>\n",
      "<selenium.webdriver.remote.webelement.WebElement (session=\"6d5f77ce838267b9921c1a6bb3031c79\", element=\"c03661e0-e01f-4776-8a1b-23244b055757\")>\n"
     ]
    },
    {
     "name": "stdout",
     "output_type": "stream",
     "text": [
      "<selenium.webdriver.remote.webelement.WebElement (session=\"6d5f77ce838267b9921c1a6bb3031c79\", element=\"b73f21ec-83d9-4c20-91dc-1d5ce35bef7f\")>\n",
      "<selenium.webdriver.remote.webelement.WebElement (session=\"6d5f77ce838267b9921c1a6bb3031c79\", element=\"e83d8442-95c3-434a-9b10-4267a0543e87\")>\n",
      "<selenium.webdriver.remote.webelement.WebElement (session=\"6d5f77ce838267b9921c1a6bb3031c79\", element=\"3a0bcc7b-1c41-4a84-be98-5ed4142e3695\")>\n",
      "<selenium.webdriver.remote.webelement.WebElement (session=\"6d5f77ce838267b9921c1a6bb3031c79\", element=\"abdaa154-94bf-4693-a6ee-b1f5f5aa9bf6\")>\n",
      "<selenium.webdriver.remote.webelement.WebElement (session=\"6d5f77ce838267b9921c1a6bb3031c79\", element=\"66029fdd-0a6c-43d0-b577-4fdf8690506b\")>\n",
      "<selenium.webdriver.remote.webelement.WebElement (session=\"6d5f77ce838267b9921c1a6bb3031c79\", element=\"7422253d-fba4-4618-96bc-754dc67a1651\")>\n",
      "<selenium.webdriver.remote.webelement.WebElement (session=\"6d5f77ce838267b9921c1a6bb3031c79\", element=\"2ea3c6b7-6299-4121-aa23-98318b9b25a8\")>\n",
      "<selenium.webdriver.remote.webelement.WebElement (session=\"6d5f77ce838267b9921c1a6bb3031c79\", element=\"8070cb5a-12db-46f6-9436-70a6a9f96b03\")>\n",
      "<selenium.webdriver.remote.webelement.WebElement (session=\"6d5f77ce838267b9921c1a6bb3031c79\", element=\"4ee20e9c-58e0-41ba-af88-f121cd16f00a\")>\n",
      "<selenium.webdriver.remote.webelement.WebElement (session=\"6d5f77ce838267b9921c1a6bb3031c79\", element=\"2ee14b61-aa50-4aaa-8f8a-092fe40d845e\")>\n",
      "<selenium.webdriver.remote.webelement.WebElement (session=\"6d5f77ce838267b9921c1a6bb3031c79\", element=\"707163b0-3403-4213-8900-7f52f050b69b\")>\n",
      "<selenium.webdriver.remote.webelement.WebElement (session=\"6d5f77ce838267b9921c1a6bb3031c79\", element=\"8ec3c33c-87d3-4eb8-98e2-951049e177f1\")>\n",
      "<selenium.webdriver.remote.webelement.WebElement (session=\"6d5f77ce838267b9921c1a6bb3031c79\", element=\"342978e7-d89f-40df-9e34-b0ab766f8b6c\")>\n",
      "<selenium.webdriver.remote.webelement.WebElement (session=\"6d5f77ce838267b9921c1a6bb3031c79\", element=\"e1630fee-ca4d-4877-b024-a392081c8ac1\")>\n",
      "<selenium.webdriver.remote.webelement.WebElement (session=\"6d5f77ce838267b9921c1a6bb3031c79\", element=\"6b21475b-ab6b-4499-af78-03ad22da7630\")>\n",
      "<selenium.webdriver.remote.webelement.WebElement (session=\"6d5f77ce838267b9921c1a6bb3031c79\", element=\"d6525118-313f-414e-9751-3be15fd098af\")>\n",
      "<selenium.webdriver.remote.webelement.WebElement (session=\"6d5f77ce838267b9921c1a6bb3031c79\", element=\"66efde57-a396-43b1-9bb7-8fb0f037b3e8\")>\n",
      "<selenium.webdriver.remote.webelement.WebElement (session=\"6d5f77ce838267b9921c1a6bb3031c79\", element=\"84f3cce2-cdfc-4f3c-ba19-75ce052dea1c\")>\n",
      "<selenium.webdriver.remote.webelement.WebElement (session=\"6d5f77ce838267b9921c1a6bb3031c79\", element=\"b1a4d402-d082-423f-a3c9-018c652ff55a\")>\n",
      "<selenium.webdriver.remote.webelement.WebElement (session=\"6d5f77ce838267b9921c1a6bb3031c79\", element=\"c7f4ee35-9246-4492-8759-29aaaf97f3e3\")>\n",
      "<selenium.webdriver.remote.webelement.WebElement (session=\"6d5f77ce838267b9921c1a6bb3031c79\", element=\"f7338ec4-4444-4441-b149-1639ce0d52d0\")>\n",
      "<selenium.webdriver.remote.webelement.WebElement (session=\"6d5f77ce838267b9921c1a6bb3031c79\", element=\"8e2a3c08-2195-4627-ae63-405d5393edb7\")>\n",
      "<selenium.webdriver.remote.webelement.WebElement (session=\"6d5f77ce838267b9921c1a6bb3031c79\", element=\"0e8817ce-12b4-4821-94e5-90ac9763d7b3\")>\n",
      "<selenium.webdriver.remote.webelement.WebElement (session=\"6d5f77ce838267b9921c1a6bb3031c79\", element=\"09456650-c592-4d55-8f35-ea5704cc2029\")>\n",
      "<selenium.webdriver.remote.webelement.WebElement (session=\"6d5f77ce838267b9921c1a6bb3031c79\", element=\"34ae57b2-a375-4f20-bcdc-90ff56f3bdc7\")>\n",
      "<selenium.webdriver.remote.webelement.WebElement (session=\"6d5f77ce838267b9921c1a6bb3031c79\", element=\"cadd6e81-4acd-44a9-b046-013d772ab64d\")>\n",
      "<selenium.webdriver.remote.webelement.WebElement (session=\"6d5f77ce838267b9921c1a6bb3031c79\", element=\"0c0d7966-23c4-4086-8048-f2ea80d610ff\")>\n",
      "<selenium.webdriver.remote.webelement.WebElement (session=\"6d5f77ce838267b9921c1a6bb3031c79\", element=\"5680ccbf-27ee-4945-bf24-01c8654756f9\")>\n",
      "<selenium.webdriver.remote.webelement.WebElement (session=\"6d5f77ce838267b9921c1a6bb3031c79\", element=\"2002a765-8eba-4a97-ac6f-e24ca66fe690\")>\n",
      "<selenium.webdriver.remote.webelement.WebElement (session=\"6d5f77ce838267b9921c1a6bb3031c79\", element=\"4fa9997c-71cb-4369-8865-c2ddf727fdc2\")>\n",
      "<selenium.webdriver.remote.webelement.WebElement (session=\"6d5f77ce838267b9921c1a6bb3031c79\", element=\"0301124c-4d85-4656-9c52-a2df28ee98e0\")>\n",
      "<selenium.webdriver.remote.webelement.WebElement (session=\"6d5f77ce838267b9921c1a6bb3031c79\", element=\"18060054-7bf6-4eda-9cbd-67364835d272\")>\n",
      "<selenium.webdriver.remote.webelement.WebElement (session=\"6d5f77ce838267b9921c1a6bb3031c79\", element=\"60484fb3-2c27-4933-9c98-3f19b85454a1\")>\n",
      "<selenium.webdriver.remote.webelement.WebElement (session=\"6d5f77ce838267b9921c1a6bb3031c79\", element=\"4ad13d6b-1d40-427c-ad4a-80e1706464d0\")>\n",
      "<selenium.webdriver.remote.webelement.WebElement (session=\"6d5f77ce838267b9921c1a6bb3031c79\", element=\"ee4f848a-7b47-43f1-beed-74a9b15edab9\")>\n",
      "<selenium.webdriver.remote.webelement.WebElement (session=\"6d5f77ce838267b9921c1a6bb3031c79\", element=\"7f6d666a-5512-4bc3-94cf-48ff4891891e\")>\n",
      "<selenium.webdriver.remote.webelement.WebElement (session=\"6d5f77ce838267b9921c1a6bb3031c79\", element=\"5af28dec-118d-4d4d-8124-6f5e8e442249\")>\n",
      "<selenium.webdriver.remote.webelement.WebElement (session=\"6d5f77ce838267b9921c1a6bb3031c79\", element=\"02d019da-9dbc-4c8a-8af6-f2f761c391a7\")>\n",
      "<selenium.webdriver.remote.webelement.WebElement (session=\"6d5f77ce838267b9921c1a6bb3031c79\", element=\"ff7614f1-a745-4b14-9668-bebbbc5de785\")>\n",
      "<selenium.webdriver.remote.webelement.WebElement (session=\"6d5f77ce838267b9921c1a6bb3031c79\", element=\"47fdabb1-4a31-47e7-a871-962e6e789d55\")>\n",
      "<selenium.webdriver.remote.webelement.WebElement (session=\"6d5f77ce838267b9921c1a6bb3031c79\", element=\"2ffb0d15-1488-4db8-994d-3dcecfc0e509\")>\n",
      "<selenium.webdriver.remote.webelement.WebElement (session=\"6d5f77ce838267b9921c1a6bb3031c79\", element=\"50878f23-79e6-46b3-8923-00777691fb55\")>\n",
      "<selenium.webdriver.remote.webelement.WebElement (session=\"6d5f77ce838267b9921c1a6bb3031c79\", element=\"3bbe4469-e317-4c69-b100-484f504644f1\")>\n",
      "<selenium.webdriver.remote.webelement.WebElement (session=\"6d5f77ce838267b9921c1a6bb3031c79\", element=\"2900f7cf-b487-417c-88e3-ceb501cb7cea\")>\n",
      "<selenium.webdriver.remote.webelement.WebElement (session=\"6d5f77ce838267b9921c1a6bb3031c79\", element=\"2ed0f474-6a95-4605-937d-2bd2f90e82db\")>\n",
      "<selenium.webdriver.remote.webelement.WebElement (session=\"6d5f77ce838267b9921c1a6bb3031c79\", element=\"99208f95-c5cd-41df-b546-169ec30cac97\")>\n",
      "<selenium.webdriver.remote.webelement.WebElement (session=\"6d5f77ce838267b9921c1a6bb3031c79\", element=\"4f9f5a24-5dc1-4813-858c-d091b98b9d7d\")>\n",
      "<selenium.webdriver.remote.webelement.WebElement (session=\"6d5f77ce838267b9921c1a6bb3031c79\", element=\"8b03ed05-c6f0-49e6-bf4f-0aed7fe568d5\")>\n",
      "<selenium.webdriver.remote.webelement.WebElement (session=\"6d5f77ce838267b9921c1a6bb3031c79\", element=\"3523ee28-5437-4c50-8e94-fbd8c2b9b9df\")>\n",
      "<selenium.webdriver.remote.webelement.WebElement (session=\"6d5f77ce838267b9921c1a6bb3031c79\", element=\"6dbd61ac-e0c1-4647-9757-f503c9b34419\")>\n",
      "<selenium.webdriver.remote.webelement.WebElement (session=\"6d5f77ce838267b9921c1a6bb3031c79\", element=\"43dd1d55-aaf7-4105-823b-8204f2d587f9\")>\n",
      "<selenium.webdriver.remote.webelement.WebElement (session=\"6d5f77ce838267b9921c1a6bb3031c79\", element=\"6b201462-901c-4529-bb16-7ecdf70302cb\")>\n",
      "<selenium.webdriver.remote.webelement.WebElement (session=\"6d5f77ce838267b9921c1a6bb3031c79\", element=\"9fc03b77-9d5e-4270-89af-489c00938400\")>\n",
      "<selenium.webdriver.remote.webelement.WebElement (session=\"6d5f77ce838267b9921c1a6bb3031c79\", element=\"6d845fa6-eb2d-4a34-a040-4942619db82e\")>\n",
      "<selenium.webdriver.remote.webelement.WebElement (session=\"6d5f77ce838267b9921c1a6bb3031c79\", element=\"a473ec0c-d00a-4dc7-83f0-7a257885187a\")>\n",
      "<selenium.webdriver.remote.webelement.WebElement (session=\"6d5f77ce838267b9921c1a6bb3031c79\", element=\"f225046e-b0cf-43d0-b526-acc08f74a664\")>\n",
      "<selenium.webdriver.remote.webelement.WebElement (session=\"6d5f77ce838267b9921c1a6bb3031c79\", element=\"965d2935-1ac9-482e-a544-1502e0227f28\")>\n",
      "<selenium.webdriver.remote.webelement.WebElement (session=\"6d5f77ce838267b9921c1a6bb3031c79\", element=\"4807988a-57be-4e3f-a20a-812c95255745\")>\n",
      "<selenium.webdriver.remote.webelement.WebElement (session=\"6d5f77ce838267b9921c1a6bb3031c79\", element=\"e84d86b5-a31b-4dab-849f-c28d534e1772\")>\n",
      "<selenium.webdriver.remote.webelement.WebElement (session=\"6d5f77ce838267b9921c1a6bb3031c79\", element=\"b8b34ebc-3e06-4f1b-96c4-59acdd6e99c4\")>\n",
      "<selenium.webdriver.remote.webelement.WebElement (session=\"6d5f77ce838267b9921c1a6bb3031c79\", element=\"620a95f2-a3ba-4872-977e-586671f4fe30\")>\n",
      "<selenium.webdriver.remote.webelement.WebElement (session=\"6d5f77ce838267b9921c1a6bb3031c79\", element=\"70be153a-28cf-4523-a93b-f225bf01f77e\")>\n",
      "<selenium.webdriver.remote.webelement.WebElement (session=\"6d5f77ce838267b9921c1a6bb3031c79\", element=\"65e4b038-9a98-468a-9be2-e60f07548473\")>\n",
      "<selenium.webdriver.remote.webelement.WebElement (session=\"6d5f77ce838267b9921c1a6bb3031c79\", element=\"4489850a-f2be-4fdc-9114-e52bd7225090\")>\n",
      "<selenium.webdriver.remote.webelement.WebElement (session=\"6d5f77ce838267b9921c1a6bb3031c79\", element=\"98488ca0-2020-4142-8326-0c1eda25e966\")>\n",
      "<selenium.webdriver.remote.webelement.WebElement (session=\"6d5f77ce838267b9921c1a6bb3031c79\", element=\"a8dc516c-610e-4c71-bee0-f9f1d9ec5ac4\")>\n",
      "<selenium.webdriver.remote.webelement.WebElement (session=\"6d5f77ce838267b9921c1a6bb3031c79\", element=\"54f49a70-6960-4adf-bbd9-d2bb632050e8\")>\n",
      "<selenium.webdriver.remote.webelement.WebElement (session=\"6d5f77ce838267b9921c1a6bb3031c79\", element=\"c6ed1815-419c-4669-a85b-4aa1a5436226\")>\n",
      "<selenium.webdriver.remote.webelement.WebElement (session=\"6d5f77ce838267b9921c1a6bb3031c79\", element=\"5f7a324e-e041-422f-a0e6-5fb68df56632\")>\n",
      "<selenium.webdriver.remote.webelement.WebElement (session=\"6d5f77ce838267b9921c1a6bb3031c79\", element=\"322a9023-140c-4fd2-8b97-2b1b976d91de\")>\n",
      "<selenium.webdriver.remote.webelement.WebElement (session=\"6d5f77ce838267b9921c1a6bb3031c79\", element=\"667f344b-8674-481a-a80f-45407fc22217\")>\n",
      "<selenium.webdriver.remote.webelement.WebElement (session=\"6d5f77ce838267b9921c1a6bb3031c79\", element=\"0c5a04c9-04bd-4491-9aba-bf19d5b25eb1\")>\n",
      "<selenium.webdriver.remote.webelement.WebElement (session=\"6d5f77ce838267b9921c1a6bb3031c79\", element=\"fcbcce86-00a8-4390-ba85-45cb970dab70\")>\n",
      "<selenium.webdriver.remote.webelement.WebElement (session=\"6d5f77ce838267b9921c1a6bb3031c79\", element=\"490ae756-4a2a-48c9-bbc7-6c08701f0caa\")>\n",
      "<selenium.webdriver.remote.webelement.WebElement (session=\"6d5f77ce838267b9921c1a6bb3031c79\", element=\"49a0510d-057b-469f-8650-110e7e4fc5e2\")>\n",
      "<selenium.webdriver.remote.webelement.WebElement (session=\"6d5f77ce838267b9921c1a6bb3031c79\", element=\"512d2621-f01f-47ef-984e-042a2a9d2a4b\")>\n"
     ]
    },
    {
     "name": "stdout",
     "output_type": "stream",
     "text": [
      "<selenium.webdriver.remote.webelement.WebElement (session=\"6d5f77ce838267b9921c1a6bb3031c79\", element=\"db81431b-c8f5-4fba-9105-9085aa123d0c\")>\n",
      "<selenium.webdriver.remote.webelement.WebElement (session=\"6d5f77ce838267b9921c1a6bb3031c79\", element=\"f03722c7-df18-46b9-a788-e3553b5d32f4\")>\n",
      "<selenium.webdriver.remote.webelement.WebElement (session=\"6d5f77ce838267b9921c1a6bb3031c79\", element=\"3596bcf7-b533-4801-a228-3d2b9b550280\")>\n",
      "<selenium.webdriver.remote.webelement.WebElement (session=\"6d5f77ce838267b9921c1a6bb3031c79\", element=\"8f3fb950-3b63-494f-94c3-55d13f2bddb3\")>\n",
      "<selenium.webdriver.remote.webelement.WebElement (session=\"6d5f77ce838267b9921c1a6bb3031c79\", element=\"71c9dc70-ec5d-4423-9b26-939ed38c907f\")>\n",
      "<selenium.webdriver.remote.webelement.WebElement (session=\"6d5f77ce838267b9921c1a6bb3031c79\", element=\"c0734653-ab8b-4a57-98d9-e263dde4eb6e\")>\n",
      "<selenium.webdriver.remote.webelement.WebElement (session=\"6d5f77ce838267b9921c1a6bb3031c79\", element=\"ddaf8ebc-107b-44a1-9fb7-7ba55ddbf07a\")>\n",
      "<selenium.webdriver.remote.webelement.WebElement (session=\"6d5f77ce838267b9921c1a6bb3031c79\", element=\"4dc83a4d-1b2e-4162-b7e6-0a4cd86a8c96\")>\n",
      "<selenium.webdriver.remote.webelement.WebElement (session=\"6d5f77ce838267b9921c1a6bb3031c79\", element=\"7d91787c-ecae-4f43-a375-3ba4e8a6e754\")>\n",
      "<selenium.webdriver.remote.webelement.WebElement (session=\"6d5f77ce838267b9921c1a6bb3031c79\", element=\"485680f2-2e19-4e4e-abe5-059a209fdec4\")>\n",
      "<selenium.webdriver.remote.webelement.WebElement (session=\"6d5f77ce838267b9921c1a6bb3031c79\", element=\"9452a267-4a4e-4854-a61d-960aee01c0f5\")>\n",
      "<selenium.webdriver.remote.webelement.WebElement (session=\"6d5f77ce838267b9921c1a6bb3031c79\", element=\"2f2a6cec-80cb-49fa-9a72-37edcff1e1ef\")>\n",
      "<selenium.webdriver.remote.webelement.WebElement (session=\"6d5f77ce838267b9921c1a6bb3031c79\", element=\"184e1bd9-802d-4286-9731-b54e52fd736f\")>\n",
      "<selenium.webdriver.remote.webelement.WebElement (session=\"6d5f77ce838267b9921c1a6bb3031c79\", element=\"3d25fb1a-9a46-408a-b367-2b69f2b08b99\")>\n",
      "<selenium.webdriver.remote.webelement.WebElement (session=\"6d5f77ce838267b9921c1a6bb3031c79\", element=\"ee56712d-aa75-4871-9f25-562d9f981db1\")>\n",
      "<selenium.webdriver.remote.webelement.WebElement (session=\"6d5f77ce838267b9921c1a6bb3031c79\", element=\"e97b0764-6108-4a02-9ad0-daa2ff49216b\")>\n",
      "<selenium.webdriver.remote.webelement.WebElement (session=\"6d5f77ce838267b9921c1a6bb3031c79\", element=\"07946599-7569-46ae-9454-adbfc1d67305\")>\n",
      "<selenium.webdriver.remote.webelement.WebElement (session=\"6d5f77ce838267b9921c1a6bb3031c79\", element=\"f9a41a01-12cd-49c4-bd01-c4b0b5ea6d0c\")>\n",
      "<selenium.webdriver.remote.webelement.WebElement (session=\"6d5f77ce838267b9921c1a6bb3031c79\", element=\"40c1963c-e970-4982-bdef-fd806725c5e4\")>\n",
      "<selenium.webdriver.remote.webelement.WebElement (session=\"6d5f77ce838267b9921c1a6bb3031c79\", element=\"798f7c88-5e7b-4751-9552-21cc19eb430d\")>\n",
      "<selenium.webdriver.remote.webelement.WebElement (session=\"6d5f77ce838267b9921c1a6bb3031c79\", element=\"be24f6dc-c7b2-4c6f-a42a-a38a8013f8a1\")>\n",
      "<selenium.webdriver.remote.webelement.WebElement (session=\"6d5f77ce838267b9921c1a6bb3031c79\", element=\"41c08f2e-75e3-4895-a947-04bf77f38dc2\")>\n",
      "<selenium.webdriver.remote.webelement.WebElement (session=\"6d5f77ce838267b9921c1a6bb3031c79\", element=\"f23d02d6-872e-4943-b463-26a913fbe333\")>\n",
      "<selenium.webdriver.remote.webelement.WebElement (session=\"6d5f77ce838267b9921c1a6bb3031c79\", element=\"183326b2-ad1f-49c0-956c-cd46ac2f6a60\")>\n",
      "<selenium.webdriver.remote.webelement.WebElement (session=\"6d5f77ce838267b9921c1a6bb3031c79\", element=\"8391a901-1eac-4464-9827-e940ebc17c6b\")>\n",
      "<selenium.webdriver.remote.webelement.WebElement (session=\"6d5f77ce838267b9921c1a6bb3031c79\", element=\"6226fffc-8698-4fed-8851-3387b3ab360e\")>\n",
      "<selenium.webdriver.remote.webelement.WebElement (session=\"6d5f77ce838267b9921c1a6bb3031c79\", element=\"f68c9f66-f925-43d1-9349-47d1101041bb\")>\n",
      "<selenium.webdriver.remote.webelement.WebElement (session=\"6d5f77ce838267b9921c1a6bb3031c79\", element=\"f7182ad2-0a62-4ddf-aa6f-db5d2118e9a0\")>\n",
      "<selenium.webdriver.remote.webelement.WebElement (session=\"6d5f77ce838267b9921c1a6bb3031c79\", element=\"896a2ded-dc3e-4cda-84c3-eef5f6d5d3c7\")>\n",
      "<selenium.webdriver.remote.webelement.WebElement (session=\"6d5f77ce838267b9921c1a6bb3031c79\", element=\"0ca69a0c-0c49-479a-af1d-c329c43e35cb\")>\n",
      "<selenium.webdriver.remote.webelement.WebElement (session=\"6d5f77ce838267b9921c1a6bb3031c79\", element=\"6ef92c2f-60bf-47c1-aa01-444f16decab9\")>\n",
      "<selenium.webdriver.remote.webelement.WebElement (session=\"6d5f77ce838267b9921c1a6bb3031c79\", element=\"75ab7c46-dab2-44bc-959e-85b153b2046c\")>\n",
      "<selenium.webdriver.remote.webelement.WebElement (session=\"6d5f77ce838267b9921c1a6bb3031c79\", element=\"c4406bf4-bf0b-4528-a72c-efe2c3954a08\")>\n",
      "<selenium.webdriver.remote.webelement.WebElement (session=\"6d5f77ce838267b9921c1a6bb3031c79\", element=\"fabe700a-0777-4dff-9620-915bb3df00e4\")>\n",
      "<selenium.webdriver.remote.webelement.WebElement (session=\"6d5f77ce838267b9921c1a6bb3031c79\", element=\"acefa4c4-fb1f-4b3f-a73d-21fd4b52df55\")>\n",
      "<selenium.webdriver.remote.webelement.WebElement (session=\"6d5f77ce838267b9921c1a6bb3031c79\", element=\"d124cf16-9ebd-40c6-ac40-70b8e902e3b9\")>\n",
      "<selenium.webdriver.remote.webelement.WebElement (session=\"6d5f77ce838267b9921c1a6bb3031c79\", element=\"11be741b-39d7-40dd-9e54-6f0213f0d104\")>\n",
      "<selenium.webdriver.remote.webelement.WebElement (session=\"6d5f77ce838267b9921c1a6bb3031c79\", element=\"57ac8d56-a3e2-446a-90b6-ecf8cf65dadc\")>\n",
      "<selenium.webdriver.remote.webelement.WebElement (session=\"6d5f77ce838267b9921c1a6bb3031c79\", element=\"b13a4430-6837-4370-a645-147724677ce5\")>\n",
      "<selenium.webdriver.remote.webelement.WebElement (session=\"6d5f77ce838267b9921c1a6bb3031c79\", element=\"d54671b2-475a-4035-9a26-b81318a13c04\")>\n",
      "<selenium.webdriver.remote.webelement.WebElement (session=\"6d5f77ce838267b9921c1a6bb3031c79\", element=\"e888b70f-09a5-468a-b5f5-6077fdde1b87\")>\n",
      "<selenium.webdriver.remote.webelement.WebElement (session=\"6d5f77ce838267b9921c1a6bb3031c79\", element=\"7dea91e9-55fe-40cb-a05b-0f20ca9c50aa\")>\n",
      "<selenium.webdriver.remote.webelement.WebElement (session=\"6d5f77ce838267b9921c1a6bb3031c79\", element=\"69a89afd-1c9d-4fb5-946e-d37acf7d03f0\")>\n",
      "<selenium.webdriver.remote.webelement.WebElement (session=\"6d5f77ce838267b9921c1a6bb3031c79\", element=\"67c16cf9-c3c9-4669-8696-5d9c00ae6b54\")>\n",
      "<selenium.webdriver.remote.webelement.WebElement (session=\"6d5f77ce838267b9921c1a6bb3031c79\", element=\"884f5cab-9dc3-4f2a-8254-288408f13074\")>\n",
      "<selenium.webdriver.remote.webelement.WebElement (session=\"6d5f77ce838267b9921c1a6bb3031c79\", element=\"39a99a3e-da14-49f7-bc94-623be4761ce7\")>\n",
      "<selenium.webdriver.remote.webelement.WebElement (session=\"6d5f77ce838267b9921c1a6bb3031c79\", element=\"72f41052-3cea-4214-b82b-c25a09bff0e6\")>\n",
      "<selenium.webdriver.remote.webelement.WebElement (session=\"6d5f77ce838267b9921c1a6bb3031c79\", element=\"47bb8f4c-3eb8-46d4-9e73-ca78cca1b1ee\")>\n",
      "<selenium.webdriver.remote.webelement.WebElement (session=\"6d5f77ce838267b9921c1a6bb3031c79\", element=\"eebe846f-0aa4-4101-b00f-502e29691084\")>\n",
      "<selenium.webdriver.remote.webelement.WebElement (session=\"6d5f77ce838267b9921c1a6bb3031c79\", element=\"e947d710-2e99-4505-92fc-b6627b1a2861\")>\n",
      "<selenium.webdriver.remote.webelement.WebElement (session=\"6d5f77ce838267b9921c1a6bb3031c79\", element=\"696f7cc6-a677-4bf6-b7c8-d062f9c44224\")>\n",
      "<selenium.webdriver.remote.webelement.WebElement (session=\"6d5f77ce838267b9921c1a6bb3031c79\", element=\"c410f26f-0693-4e84-b0dc-d10496cde8f1\")>\n",
      "<selenium.webdriver.remote.webelement.WebElement (session=\"6d5f77ce838267b9921c1a6bb3031c79\", element=\"8af6d091-4541-4b38-8a7f-6ead30e23021\")>\n",
      "<selenium.webdriver.remote.webelement.WebElement (session=\"6d5f77ce838267b9921c1a6bb3031c79\", element=\"3b5e3b71-e147-4842-b8d5-8933e1a5072c\")>\n",
      "<selenium.webdriver.remote.webelement.WebElement (session=\"6d5f77ce838267b9921c1a6bb3031c79\", element=\"49cd3314-b4bf-49ad-a421-990c5b26adaa\")>\n",
      "<selenium.webdriver.remote.webelement.WebElement (session=\"6d5f77ce838267b9921c1a6bb3031c79\", element=\"a09176e3-8765-42e9-98a4-b130f64ed58a\")>\n",
      "<selenium.webdriver.remote.webelement.WebElement (session=\"6d5f77ce838267b9921c1a6bb3031c79\", element=\"c2905932-c304-4780-bd29-bd61d38d695e\")>\n",
      "<selenium.webdriver.remote.webelement.WebElement (session=\"6d5f77ce838267b9921c1a6bb3031c79\", element=\"5785b70c-d3b4-484f-8881-2c344a17d854\")>\n",
      "<selenium.webdriver.remote.webelement.WebElement (session=\"6d5f77ce838267b9921c1a6bb3031c79\", element=\"572b3095-e863-4102-94a8-3281046f839a\")>\n",
      "<selenium.webdriver.remote.webelement.WebElement (session=\"6d5f77ce838267b9921c1a6bb3031c79\", element=\"871b6d75-a57a-4e5e-b170-26cb595d28d6\")>\n"
     ]
    },
    {
     "name": "stdout",
     "output_type": "stream",
     "text": [
      "<selenium.webdriver.remote.webelement.WebElement (session=\"6d5f77ce838267b9921c1a6bb3031c79\", element=\"48985b38-ba64-41b5-b8dd-7979a9bb06d7\")>\n",
      "<selenium.webdriver.remote.webelement.WebElement (session=\"6d5f77ce838267b9921c1a6bb3031c79\", element=\"057f1612-d9f9-4f7d-9fb6-db85c63e9990\")>\n",
      "<selenium.webdriver.remote.webelement.WebElement (session=\"6d5f77ce838267b9921c1a6bb3031c79\", element=\"f8647b80-6f66-44a8-8944-afa79eeddf64\")>\n",
      "<selenium.webdriver.remote.webelement.WebElement (session=\"6d5f77ce838267b9921c1a6bb3031c79\", element=\"6a57f4f0-371a-4b9f-a2f7-0928ba4a4c08\")>\n",
      "<selenium.webdriver.remote.webelement.WebElement (session=\"6d5f77ce838267b9921c1a6bb3031c79\", element=\"fc9e4ba5-6b0f-4511-9582-e660a0c18a6b\")>\n",
      "<selenium.webdriver.remote.webelement.WebElement (session=\"6d5f77ce838267b9921c1a6bb3031c79\", element=\"492f9dce-d0ba-4130-8301-36c6fe9afe8b\")>\n",
      "<selenium.webdriver.remote.webelement.WebElement (session=\"6d5f77ce838267b9921c1a6bb3031c79\", element=\"b4d6ac0e-5709-47cc-bdbd-edaffa259e43\")>\n",
      "<selenium.webdriver.remote.webelement.WebElement (session=\"6d5f77ce838267b9921c1a6bb3031c79\", element=\"0e29c1c5-66f5-46b4-aff3-ff51db631c4a\")>\n",
      "<selenium.webdriver.remote.webelement.WebElement (session=\"6d5f77ce838267b9921c1a6bb3031c79\", element=\"212de8a0-390c-4e57-a575-7d6b5900e8c4\")>\n",
      "<selenium.webdriver.remote.webelement.WebElement (session=\"6d5f77ce838267b9921c1a6bb3031c79\", element=\"c114d53b-dd1d-48eb-a055-c5f98463691c\")>\n",
      "<selenium.webdriver.remote.webelement.WebElement (session=\"6d5f77ce838267b9921c1a6bb3031c79\", element=\"1dffc340-864d-4547-b1fa-dc3e7bc76686\")>\n",
      "<selenium.webdriver.remote.webelement.WebElement (session=\"6d5f77ce838267b9921c1a6bb3031c79\", element=\"87ae0309-42eb-442b-9675-7b9a760d8568\")>\n",
      "<selenium.webdriver.remote.webelement.WebElement (session=\"6d5f77ce838267b9921c1a6bb3031c79\", element=\"a726e683-40e4-47c8-95b2-10296d01e272\")>\n",
      "<selenium.webdriver.remote.webelement.WebElement (session=\"6d5f77ce838267b9921c1a6bb3031c79\", element=\"61d2021d-e291-4482-a5c6-cac2e02a5665\")>\n",
      "<selenium.webdriver.remote.webelement.WebElement (session=\"6d5f77ce838267b9921c1a6bb3031c79\", element=\"45ae8f3b-941a-4c30-807b-83e288da5443\")>\n",
      "<selenium.webdriver.remote.webelement.WebElement (session=\"6d5f77ce838267b9921c1a6bb3031c79\", element=\"c960ea59-35db-4c92-8f33-81aad1451b74\")>\n",
      "<selenium.webdriver.remote.webelement.WebElement (session=\"6d5f77ce838267b9921c1a6bb3031c79\", element=\"7eef06ff-58cc-4738-986f-fb3d81ce359f\")>\n",
      "<selenium.webdriver.remote.webelement.WebElement (session=\"6d5f77ce838267b9921c1a6bb3031c79\", element=\"ac78998d-4501-404d-8e6e-4b60e89b50d6\")>\n",
      "<selenium.webdriver.remote.webelement.WebElement (session=\"6d5f77ce838267b9921c1a6bb3031c79\", element=\"9290b559-3dd1-4176-a79f-f5f9d0b14921\")>\n",
      "<selenium.webdriver.remote.webelement.WebElement (session=\"6d5f77ce838267b9921c1a6bb3031c79\", element=\"c83156d7-46a2-4f27-87c6-8d5ce29fa038\")>\n",
      "<selenium.webdriver.remote.webelement.WebElement (session=\"6d5f77ce838267b9921c1a6bb3031c79\", element=\"93eec354-af4d-4b76-b25b-04b568d65aec\")>\n",
      "<selenium.webdriver.remote.webelement.WebElement (session=\"6d5f77ce838267b9921c1a6bb3031c79\", element=\"d8210252-dacb-43a8-86ea-0fb052ed0475\")>\n",
      "<selenium.webdriver.remote.webelement.WebElement (session=\"6d5f77ce838267b9921c1a6bb3031c79\", element=\"ed8f64ee-6f98-4bad-9b6c-82155a6b81cf\")>\n",
      "<selenium.webdriver.remote.webelement.WebElement (session=\"6d5f77ce838267b9921c1a6bb3031c79\", element=\"5aa723e1-6a81-4bb3-99f8-ecbca32f4893\")>\n",
      "<selenium.webdriver.remote.webelement.WebElement (session=\"6d5f77ce838267b9921c1a6bb3031c79\", element=\"bf76f857-e527-4d8d-93f6-12fdcae4cfef\")>\n",
      "<selenium.webdriver.remote.webelement.WebElement (session=\"6d5f77ce838267b9921c1a6bb3031c79\", element=\"ca01e0f6-8728-482f-b3c7-e9b02b425537\")>\n",
      "<selenium.webdriver.remote.webelement.WebElement (session=\"6d5f77ce838267b9921c1a6bb3031c79\", element=\"80c6e844-be11-4f0c-a117-130920b59646\")>\n",
      "<selenium.webdriver.remote.webelement.WebElement (session=\"6d5f77ce838267b9921c1a6bb3031c79\", element=\"a1d7e1f0-f789-453a-bb91-9f63541c0e18\")>\n",
      "<selenium.webdriver.remote.webelement.WebElement (session=\"6d5f77ce838267b9921c1a6bb3031c79\", element=\"436d4093-5187-44e4-80c2-f8f226ebc911\")>\n",
      "<selenium.webdriver.remote.webelement.WebElement (session=\"6d5f77ce838267b9921c1a6bb3031c79\", element=\"082f802e-2604-4c7e-bc08-13b1e42f6c65\")>\n",
      "<selenium.webdriver.remote.webelement.WebElement (session=\"6d5f77ce838267b9921c1a6bb3031c79\", element=\"fb10997a-6f70-4b7f-bb1b-91cef64517fd\")>\n",
      "<selenium.webdriver.remote.webelement.WebElement (session=\"6d5f77ce838267b9921c1a6bb3031c79\", element=\"083af155-e9e2-4980-878a-80e3b881bd42\")>\n",
      "<selenium.webdriver.remote.webelement.WebElement (session=\"6d5f77ce838267b9921c1a6bb3031c79\", element=\"08ac9314-eb57-4675-aedb-13669366be72\")>\n",
      "<selenium.webdriver.remote.webelement.WebElement (session=\"6d5f77ce838267b9921c1a6bb3031c79\", element=\"0416b826-7a06-4cad-88fd-f8ca74dc7fb5\")>\n",
      "<selenium.webdriver.remote.webelement.WebElement (session=\"6d5f77ce838267b9921c1a6bb3031c79\", element=\"e4f9f2fb-debe-4ff3-b9a0-c3ddf1069e98\")>\n",
      "<selenium.webdriver.remote.webelement.WebElement (session=\"6d5f77ce838267b9921c1a6bb3031c79\", element=\"9dfd5ca3-f910-4a94-9d61-eaf70c870fee\")>\n",
      "<selenium.webdriver.remote.webelement.WebElement (session=\"6d5f77ce838267b9921c1a6bb3031c79\", element=\"a292e6f6-8b51-471b-804d-cfe0c229b460\")>\n",
      "<selenium.webdriver.remote.webelement.WebElement (session=\"6d5f77ce838267b9921c1a6bb3031c79\", element=\"049c5fd8-9b82-492a-a896-53ae99803eca\")>\n",
      "<selenium.webdriver.remote.webelement.WebElement (session=\"6d5f77ce838267b9921c1a6bb3031c79\", element=\"36cb1d6a-e7bb-410d-9c42-d3fe1fe26c7d\")>\n",
      "<selenium.webdriver.remote.webelement.WebElement (session=\"6d5f77ce838267b9921c1a6bb3031c79\", element=\"0b3c751c-47e5-4eab-a1c4-5e89a971e6b4\")>\n",
      "<selenium.webdriver.remote.webelement.WebElement (session=\"6d5f77ce838267b9921c1a6bb3031c79\", element=\"ceb41fe5-d54e-421a-a10f-21dd2af2b2a1\")>\n",
      "<selenium.webdriver.remote.webelement.WebElement (session=\"6d5f77ce838267b9921c1a6bb3031c79\", element=\"84064458-bd06-4890-9222-3ab63640b52f\")>\n",
      "<selenium.webdriver.remote.webelement.WebElement (session=\"6d5f77ce838267b9921c1a6bb3031c79\", element=\"319ec301-87d1-40d2-bab2-6889236afc6f\")>\n",
      "<selenium.webdriver.remote.webelement.WebElement (session=\"6d5f77ce838267b9921c1a6bb3031c79\", element=\"9feb94c0-4484-479f-8b30-ced778092851\")>\n",
      "<selenium.webdriver.remote.webelement.WebElement (session=\"6d5f77ce838267b9921c1a6bb3031c79\", element=\"04938ddd-be29-4bf4-96c6-c842c834a633\")>\n",
      "<selenium.webdriver.remote.webelement.WebElement (session=\"6d5f77ce838267b9921c1a6bb3031c79\", element=\"4d5de210-9193-4516-ad80-ddf286acbb73\")>\n",
      "<selenium.webdriver.remote.webelement.WebElement (session=\"6d5f77ce838267b9921c1a6bb3031c79\", element=\"cbe4b1f8-03ac-495e-85da-7ccc721355ec\")>\n",
      "<selenium.webdriver.remote.webelement.WebElement (session=\"6d5f77ce838267b9921c1a6bb3031c79\", element=\"0729ba67-a3fe-470a-8b66-c7f0a0b6ebca\")>\n",
      "<selenium.webdriver.remote.webelement.WebElement (session=\"6d5f77ce838267b9921c1a6bb3031c79\", element=\"7045bb41-4c18-48fe-8f58-8a00fa6f2c52\")>\n",
      "<selenium.webdriver.remote.webelement.WebElement (session=\"6d5f77ce838267b9921c1a6bb3031c79\", element=\"8fce610a-5ced-4b55-b85a-f3634bd4cdc8\")>\n",
      "<selenium.webdriver.remote.webelement.WebElement (session=\"6d5f77ce838267b9921c1a6bb3031c79\", element=\"3821eff0-d85f-44b5-8d2c-0881d7cb38b3\")>\n",
      "<selenium.webdriver.remote.webelement.WebElement (session=\"6d5f77ce838267b9921c1a6bb3031c79\", element=\"5317449f-2ddf-4e10-84c3-18850cbe6ee2\")>\n",
      "<selenium.webdriver.remote.webelement.WebElement (session=\"6d5f77ce838267b9921c1a6bb3031c79\", element=\"f84233ef-01e0-4959-9653-2ae88554343d\")>\n",
      "<selenium.webdriver.remote.webelement.WebElement (session=\"6d5f77ce838267b9921c1a6bb3031c79\", element=\"d1f1baa2-a99c-4080-9aa9-3bebdbc365f4\")>\n",
      "<selenium.webdriver.remote.webelement.WebElement (session=\"6d5f77ce838267b9921c1a6bb3031c79\", element=\"26f98dc4-fd7f-449c-a987-98898d0d6799\")>\n",
      "<selenium.webdriver.remote.webelement.WebElement (session=\"6d5f77ce838267b9921c1a6bb3031c79\", element=\"93aae40c-5631-4fad-96e5-d1819923e145\")>\n",
      "<selenium.webdriver.remote.webelement.WebElement (session=\"6d5f77ce838267b9921c1a6bb3031c79\", element=\"d00a215c-fac1-42e2-9987-fab7065e6ce4\")>\n"
     ]
    },
    {
     "name": "stdout",
     "output_type": "stream",
     "text": [
      "<selenium.webdriver.remote.webelement.WebElement (session=\"6d5f77ce838267b9921c1a6bb3031c79\", element=\"e07b0723-5ec6-4e01-ace5-2df1f21d6e0f\")>\n",
      "<selenium.webdriver.remote.webelement.WebElement (session=\"6d5f77ce838267b9921c1a6bb3031c79\", element=\"ed4459e6-d3d7-49c7-8004-93b5150cce23\")>\n",
      "<selenium.webdriver.remote.webelement.WebElement (session=\"6d5f77ce838267b9921c1a6bb3031c79\", element=\"78ac15ef-bd9c-4d25-b188-6464e55140c9\")>\n",
      "<selenium.webdriver.remote.webelement.WebElement (session=\"6d5f77ce838267b9921c1a6bb3031c79\", element=\"609ab770-a733-4489-9161-0417c129606a\")>\n",
      "<selenium.webdriver.remote.webelement.WebElement (session=\"6d5f77ce838267b9921c1a6bb3031c79\", element=\"38ef386a-169d-4400-977f-08c3c040b905\")>\n",
      "<selenium.webdriver.remote.webelement.WebElement (session=\"6d5f77ce838267b9921c1a6bb3031c79\", element=\"d8c732b9-a092-443e-ad8d-5bd4f49b71dd\")>\n",
      "<selenium.webdriver.remote.webelement.WebElement (session=\"6d5f77ce838267b9921c1a6bb3031c79\", element=\"21239467-f604-4214-abbf-36983f7e2ca2\")>\n",
      "<selenium.webdriver.remote.webelement.WebElement (session=\"6d5f77ce838267b9921c1a6bb3031c79\", element=\"890af7e5-00a2-4ac7-a2fa-4c8a1b94e18b\")>\n",
      "<selenium.webdriver.remote.webelement.WebElement (session=\"6d5f77ce838267b9921c1a6bb3031c79\", element=\"56b9cb22-7429-4a0a-aaa7-8c4e8f93590d\")>\n",
      "<selenium.webdriver.remote.webelement.WebElement (session=\"6d5f77ce838267b9921c1a6bb3031c79\", element=\"4f48223e-f965-448d-b045-2e9836b7267e\")>\n",
      "<selenium.webdriver.remote.webelement.WebElement (session=\"6d5f77ce838267b9921c1a6bb3031c79\", element=\"0efd3bcd-0e94-459e-8abd-be0b14b4e1bf\")>\n",
      "<selenium.webdriver.remote.webelement.WebElement (session=\"6d5f77ce838267b9921c1a6bb3031c79\", element=\"50fcce8d-0de8-4a98-a20a-8be345c70d51\")>\n",
      "<selenium.webdriver.remote.webelement.WebElement (session=\"6d5f77ce838267b9921c1a6bb3031c79\", element=\"a5fc2bab-2eba-442b-9323-9a57c707d8f6\")>\n",
      "<selenium.webdriver.remote.webelement.WebElement (session=\"6d5f77ce838267b9921c1a6bb3031c79\", element=\"f8590b08-c94c-455e-8618-0d8e0231347a\")>\n",
      "<selenium.webdriver.remote.webelement.WebElement (session=\"6d5f77ce838267b9921c1a6bb3031c79\", element=\"2411cd84-eb4a-4a7f-97b7-78046227f500\")>\n",
      "<selenium.webdriver.remote.webelement.WebElement (session=\"6d5f77ce838267b9921c1a6bb3031c79\", element=\"6a84a290-1928-4c6c-aa68-999641123a8f\")>\n",
      "<selenium.webdriver.remote.webelement.WebElement (session=\"6d5f77ce838267b9921c1a6bb3031c79\", element=\"a168974c-23c8-4141-9260-a87419d94e90\")>\n",
      "<selenium.webdriver.remote.webelement.WebElement (session=\"6d5f77ce838267b9921c1a6bb3031c79\", element=\"5fb33128-5c7d-4f09-a1c8-65e21dbf50a8\")>\n",
      "<selenium.webdriver.remote.webelement.WebElement (session=\"6d5f77ce838267b9921c1a6bb3031c79\", element=\"0049463c-abd3-46de-a7da-668ed4be118d\")>\n",
      "<selenium.webdriver.remote.webelement.WebElement (session=\"6d5f77ce838267b9921c1a6bb3031c79\", element=\"37b04a74-9e9d-4b74-83f1-8ef3b199404a\")>\n",
      "<selenium.webdriver.remote.webelement.WebElement (session=\"6d5f77ce838267b9921c1a6bb3031c79\", element=\"c784298a-5863-49d8-af38-d533be40a100\")>\n",
      "<selenium.webdriver.remote.webelement.WebElement (session=\"6d5f77ce838267b9921c1a6bb3031c79\", element=\"37e0eb5f-e43c-4091-9f3c-ac5d830de243\")>\n",
      "<selenium.webdriver.remote.webelement.WebElement (session=\"6d5f77ce838267b9921c1a6bb3031c79\", element=\"287c7c58-2eaa-4a9b-8659-89a6731c6f57\")>\n",
      "<selenium.webdriver.remote.webelement.WebElement (session=\"6d5f77ce838267b9921c1a6bb3031c79\", element=\"a3be68c8-afba-48d0-b6d2-861a8a990a77\")>\n",
      "<selenium.webdriver.remote.webelement.WebElement (session=\"6d5f77ce838267b9921c1a6bb3031c79\", element=\"9fdd8a02-d021-4fa2-8fed-f9672844eeb4\")>\n",
      "<selenium.webdriver.remote.webelement.WebElement (session=\"6d5f77ce838267b9921c1a6bb3031c79\", element=\"a66458cd-7590-4d72-abf8-d890df9286f3\")>\n",
      "<selenium.webdriver.remote.webelement.WebElement (session=\"6d5f77ce838267b9921c1a6bb3031c79\", element=\"ccaff2cf-9a94-46ba-8290-6f724c60a179\")>\n",
      "<selenium.webdriver.remote.webelement.WebElement (session=\"6d5f77ce838267b9921c1a6bb3031c79\", element=\"0711a4b6-5c7c-4250-94de-dcd3b48c928e\")>\n",
      "<selenium.webdriver.remote.webelement.WebElement (session=\"6d5f77ce838267b9921c1a6bb3031c79\", element=\"0a185bc4-9e4a-4d87-bb63-103a23345d9d\")>\n",
      "<selenium.webdriver.remote.webelement.WebElement (session=\"6d5f77ce838267b9921c1a6bb3031c79\", element=\"5a4e83e4-f12e-4c15-a880-45c917acd5ee\")>\n",
      "<selenium.webdriver.remote.webelement.WebElement (session=\"6d5f77ce838267b9921c1a6bb3031c79\", element=\"e33eb6a4-e77a-4b10-9d71-d8085abc34bd\")>\n",
      "<selenium.webdriver.remote.webelement.WebElement (session=\"6d5f77ce838267b9921c1a6bb3031c79\", element=\"9186b389-549c-4f31-a2ab-ab2cd65e6189\")>\n",
      "<selenium.webdriver.remote.webelement.WebElement (session=\"6d5f77ce838267b9921c1a6bb3031c79\", element=\"ff326bfb-baf8-4ed5-8f35-ff04604bc4f2\")>\n",
      "<selenium.webdriver.remote.webelement.WebElement (session=\"6d5f77ce838267b9921c1a6bb3031c79\", element=\"1a38aa4b-840e-4a0a-86f6-ff4f16188bfa\")>\n",
      "<selenium.webdriver.remote.webelement.WebElement (session=\"6d5f77ce838267b9921c1a6bb3031c79\", element=\"2f40e4aa-2130-409b-a68e-19f17a10d5c7\")>\n",
      "<selenium.webdriver.remote.webelement.WebElement (session=\"6d5f77ce838267b9921c1a6bb3031c79\", element=\"0ab9525e-7354-4b4f-a407-5bba9aaa75a6\")>\n",
      "<selenium.webdriver.remote.webelement.WebElement (session=\"6d5f77ce838267b9921c1a6bb3031c79\", element=\"134f583b-e518-4552-9963-b2f5399a3ccb\")>\n",
      "<selenium.webdriver.remote.webelement.WebElement (session=\"6d5f77ce838267b9921c1a6bb3031c79\", element=\"25071f47-63c1-432b-aa90-c85c2173bfb5\")>\n",
      "<selenium.webdriver.remote.webelement.WebElement (session=\"6d5f77ce838267b9921c1a6bb3031c79\", element=\"05b66147-bac5-4f0b-89e5-fc413e73ffe8\")>\n",
      "<selenium.webdriver.remote.webelement.WebElement (session=\"6d5f77ce838267b9921c1a6bb3031c79\", element=\"12f2befc-74ae-4145-9d3b-8120502d9f5a\")>\n",
      "<selenium.webdriver.remote.webelement.WebElement (session=\"6d5f77ce838267b9921c1a6bb3031c79\", element=\"59bced4a-374f-4b5f-a942-867547ae0928\")>\n",
      "<selenium.webdriver.remote.webelement.WebElement (session=\"6d5f77ce838267b9921c1a6bb3031c79\", element=\"0f6ca2dd-a1d2-486d-8b0e-53f6ab3c1751\")>\n"
     ]
    }
   ],
   "source": [
    "for e in elem:\n",
    "    e.get_attribute(\"href\")\n",
    "    print(e)"
   ]
  },
  {
   "cell_type": "code",
   "execution_count": 28,
   "metadata": {
    "ExecuteTime": {
     "end_time": "2021-07-13T09:07:17.027992Z",
     "start_time": "2021-07-13T09:07:05.784017Z"
    }
   },
   "outputs": [],
   "source": [
    "browser.get(\"http://daum.net\")"
   ]
  },
  {
   "cell_type": "code",
   "execution_count": 29,
   "metadata": {
    "ExecuteTime": {
     "end_time": "2021-07-13T09:13:51.972036Z",
     "start_time": "2021-07-13T09:13:51.923072Z"
    }
   },
   "outputs": [
    {
     "data": {
      "text/plain": [
       "<selenium.webdriver.remote.webelement.WebElement (session=\"6d5f77ce838267b9921c1a6bb3031c79\", element=\"dfd17bde-41a3-45ea-b35e-fb2a395b2e23\")>"
      ]
     },
     "execution_count": 29,
     "metadata": {},
     "output_type": "execute_result"
    }
   ],
   "source": [
    "elem = browser.find_element_by_name(\"q\")\n",
    "elem"
   ]
  },
  {
   "cell_type": "code",
   "execution_count": 31,
   "metadata": {
    "ExecuteTime": {
     "end_time": "2021-07-13T09:14:27.152989Z",
     "start_time": "2021-07-13T09:14:19.265322Z"
    }
   },
   "outputs": [],
   "source": [
    "elem.send_keys(\"나도코딩\")\n",
    "elem.send_keys(Keys.ENTER)"
   ]
  },
  {
   "cell_type": "code",
   "execution_count": 32,
   "metadata": {
    "ExecuteTime": {
     "end_time": "2021-07-13T09:14:55.824111Z",
     "start_time": "2021-07-13T09:14:52.353433Z"
    }
   },
   "outputs": [],
   "source": [
    "browser.back()"
   ]
  },
  {
   "cell_type": "code",
   "execution_count": 33,
   "metadata": {
    "ExecuteTime": {
     "end_time": "2021-07-13T09:15:16.080232Z",
     "start_time": "2021-07-13T09:15:15.875073Z"
    }
   },
   "outputs": [],
   "source": [
    "#페잊 전환되면 다시 elem 세팅해주기\n",
    "elem = browser.find_element_by_name(\"q\")\n",
    "elem.send_keys(\"나도코딩\")"
   ]
  },
  {
   "cell_type": "code",
   "execution_count": 36,
   "metadata": {
    "ExecuteTime": {
     "end_time": "2021-07-13T09:17:28.276910Z",
     "start_time": "2021-07-13T09:17:28.177899Z"
    }
   },
   "outputs": [],
   "source": [
    "#쌍따옴표 여러개면 작은걸로 바꺼주기\n",
    "elem = browser.find_element_by_xpath(\"//*[@id='daumSearch']/fieldset/div/div/button[2]\")"
   ]
  },
  {
   "cell_type": "code",
   "execution_count": 37,
   "metadata": {
    "ExecuteTime": {
     "end_time": "2021-07-13T09:17:32.799513Z",
     "start_time": "2021-07-13T09:17:32.779977Z"
    }
   },
   "outputs": [
    {
     "data": {
      "text/plain": [
       "<selenium.webdriver.remote.webelement.WebElement (session=\"6d5f77ce838267b9921c1a6bb3031c79\", element=\"406d718f-241e-4d72-98b5-0b4f36951e1d\")>"
      ]
     },
     "execution_count": 37,
     "metadata": {},
     "output_type": "execute_result"
    }
   ],
   "source": [
    "elem"
   ]
  },
  {
   "cell_type": "code",
   "execution_count": 38,
   "metadata": {
    "ExecuteTime": {
     "end_time": "2021-07-13T09:17:42.878461Z",
     "start_time": "2021-07-13T09:17:36.564928Z"
    }
   },
   "outputs": [],
   "source": [
    "elem.click()"
   ]
  },
  {
   "cell_type": "code",
   "execution_count": 39,
   "metadata": {
    "ExecuteTime": {
     "end_time": "2021-07-13T09:18:07.113321Z",
     "start_time": "2021-07-13T09:18:01.393694Z"
    }
   },
   "outputs": [],
   "source": [
    "browser.quit() #close는 하나 탭만 다등ㅁ"
   ]
  },
  {
   "cell_type": "code",
   "execution_count": null,
   "metadata": {},
   "outputs": [],
   "source": []
  }
 ],
 "metadata": {
  "kernelspec": {
   "display_name": "Python 3",
   "language": "python",
   "name": "python3"
  },
  "language_info": {
   "codemirror_mode": {
    "name": "ipython",
    "version": 3
   },
   "file_extension": ".py",
   "mimetype": "text/x-python",
   "name": "python",
   "nbconvert_exporter": "python",
   "pygments_lexer": "ipython3",
   "version": "3.8.5"
  }
 },
 "nbformat": 4,
 "nbformat_minor": 4
}
